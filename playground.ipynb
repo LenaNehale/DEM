{
 "cells": [
  {
   "cell_type": "code",
   "execution_count": 1,
   "metadata": {},
   "outputs": [],
   "source": [
    "from dem.energies.tblite_energy import TBLiteEnergy\n",
    "import numpy as np\n",
    "import pickle\n",
    "import torch \n",
    "from dem.energies.base_energy_function import BaseEnergyFunction\n",
    "from dem.energies.lennardjones_energy import LennardJonesEnergy \n",
    "from dem.models.components.clipper import Clipper\n",
    "from dem.models.components.noise_schedules import BaseNoiseSchedule, GeometricNoiseSchedule\n",
    "from dem.models.components.score_estimator import get_logreward_noised_samples"
   ]
  },
  {
   "cell_type": "code",
   "execution_count": 5,
   "metadata": {},
   "outputs": [],
   "source": [
    "energy_function = TBLiteEnergy(dimensionality = 3*69, n_particles = 69, is_molecule=True, data_path ='/home/mila/l/lena-nehale.ezzine/Amgen/DEM/data/TIfV_val.npy',   data_path_train='/home/mila/l/lena-nehale.ezzine/Amgen/DEM/data/TIfV_train.npy', data_path_val='/home/mila/l/lena-nehale.ezzine/Amgen/DEM/data/TIfV_val.npy', T=0.1)"
   ]
  },
  {
   "cell_type": "code",
   "execution_count": 6,
   "metadata": {},
   "outputs": [],
   "source": [
    "coords = torch.tensor(np.load('/home/mila/l/lena-nehale.ezzine/Amgen/DEM/data/TIfV_val.npy'), dtype=torch.float32)\n",
    "atom_ids = pickle.load(open('/home/mila/l/lena-nehale.ezzine/Amgen/DEM/data/atom_ids.pkl', 'rb'))"
   ]
  },
  {
   "cell_type": "code",
   "execution_count": 9,
   "metadata": {},
   "outputs": [
    {
     "name": "stdout",
     "output_type": "stream",
     "text": [
      "------------------------------------------------------------\n",
      "  cycle        total energy    energy error   density error\n",
      "------------------------------------------------------------\n",
      "      1      11696.82296596   6.3654270E+03   2.1577181E+00\n",
      "      2      11694.84449147  -1.9784745E+00   1.2755375E+00\n",
      "      3      11693.83864785  -1.0058436E+00   9.1754637E-02\n",
      "      4      11693.75435246  -8.4295385E-02   5.3377027E-02\n",
      "      5      11693.85161613   9.7263673E-02   3.9444354E-02\n",
      "      6      11693.68669610  -1.6492004E-01   2.1767680E-02\n",
      "      7      11693.65849108  -2.8205019E-02   1.5797328E-02\n",
      "      8      11693.65527664  -3.2144329E-03   1.3629944E-02\n",
      "------------------------------------------------------------\n",
      "\n",
      " total:                                   1.623 sec\n",
      "log rew -116936.5527664498\n"
     ]
    },
    {
     "data": {
      "text/plain": [
       "tensor(-116936.5547)"
      ]
     },
     "execution_count": 9,
     "metadata": {},
     "output_type": "execute_result"
    }
   ],
   "source": [
    "energy_function(torch.rand(69,3))"
   ]
  },
  {
   "cell_type": "code",
   "execution_count": 4,
   "metadata": {},
   "outputs": [
    {
     "data": {
      "text/plain": [
       "torch.Size([283, 2346])"
      ]
     },
     "execution_count": 4,
     "metadata": {},
     "output_type": "execute_result"
    }
   ],
   "source": [
    "energy_function.interatomic_dist(coords).shape"
   ]
  },
  {
   "cell_type": "code",
   "execution_count": 7,
   "metadata": {},
   "outputs": [
    {
     "name": "stdout",
     "output_type": "stream",
     "text": [
      "------------------------------------------------------------\n",
      "  cycle        total energy    energy error   density error\n",
      "------------------------------------------------------------\n",
      "      1     -101.2379595160  -1.0254221E+02   1.6242103E-01\n",
      "      2     -101.8354361927  -5.9747668E-01   6.4933516E-02\n",
      "      3     -101.8713076978  -3.5871505E-02   3.7344083E-02\n",
      "      4     -101.8826051226  -1.1297425E-02   1.0278015E-02\n",
      "      5     -101.8844306159  -1.8254933E-03   4.4548929E-03\n",
      "------------------------------------------------------------\n",
      "\n",
      " total:                                   2.213 sec\n",
      "log rew 101.88443061590056\n",
      "------------------------------------------------------------\n",
      "  cycle        total energy    energy error   density error\n",
      "------------------------------------------------------------\n",
      "      1     -101.2374035518  -1.0254175E+02   1.6240706E-01\n",
      "      2     -101.8352837297  -5.9788018E-01   6.4946729E-02\n",
      "      3     -101.8712113826  -3.5927653E-02   3.7351489E-02\n",
      "      4     -101.8825238407  -1.1312458E-02   1.0288595E-02\n",
      "      5     -101.8843541044  -1.8302637E-03   4.4598258E-03\n",
      "------------------------------------------------------------\n",
      "\n",
      " total:                                   1.781 sec\n",
      "log rew 101.88435410437587\n"
     ]
    },
    {
     "data": {
      "text/plain": [
       "torch.Size([1, 1, 2])"
      ]
     },
     "execution_count": 7,
     "metadata": {},
     "output_type": "execute_result"
    }
   ],
   "source": [
    "grads = energy_function(coords[:2].unsqueeze(0).unsqueeze(0))\n",
    "grads.shape"
   ]
  },
  {
   "cell_type": "code",
   "execution_count": 10,
   "metadata": {},
   "outputs": [
    {
     "name": "stdout",
     "output_type": "stream",
     "text": [
      "------------------------------------------------------------\n",
      "  cycle        total energy    energy error   density error\n",
      "------------------------------------------------------------\n",
      "      1     -101.2379595160  -1.0254221E+02   1.6242103E-01\n",
      "      2     -101.8354361927  -5.9747668E-01   6.4933516E-02\n",
      "      3     -101.8713076978  -3.5871505E-02   3.7344083E-02\n",
      "      4     -101.8826051226  -1.1297425E-02   1.0278015E-02\n",
      "      5     -101.8844306159  -1.8254933E-03   4.4548929E-03\n",
      "      6     -101.8848423873  -4.1177144E-04   1.6148188E-03\n",
      "      7     -101.8848654878  -2.3100480E-05   6.8722718E-04\n",
      "      8     -101.8848755082  -1.0020362E-05   3.6223155E-04\n",
      "      9     -101.8848774218  -1.9136250E-06   8.8704758E-05\n",
      "------------------------------------------------------------\n",
      "\n",
      " total:                                   2.065 sec\n",
      "tensor([101.8849]) torch.Size([1])\n",
      "------------------------------------------------------------\n",
      "  cycle        total energy    energy error   density error\n",
      "------------------------------------------------------------\n",
      "      1     -101.2379595160  -1.0254221E+02   1.6242103E-01\n",
      "      2     -101.8354361927  -5.9747668E-01   6.4933516E-02\n",
      "      3     -101.8713076978  -3.5871505E-02   3.7344083E-02\n",
      "      4     -101.8826051226  -1.1297425E-02   1.0278015E-02\n",
      "      5     -101.8844306159  -1.8254933E-03   4.4548929E-03\n",
      "      6     -101.8848423873  -4.1177144E-04   1.6148188E-03\n",
      "      7     -101.8848654878  -2.3100480E-05   6.8722718E-04\n",
      "      8     -101.8848755082  -1.0020362E-05   3.6223155E-04\n",
      "      9     -101.8848774218  -1.9136250E-06   8.8704758E-05\n",
      "------------------------------------------------------------\n",
      "\n",
      " total:                                   1.743 sec\n",
      "------------------------------------------------------------\n",
      "  cycle        total energy    energy error   density error\n",
      "------------------------------------------------------------\n",
      "      1     -101.2577636404  -1.0257640E+02   1.6197856E-01\n",
      "      2     -101.8373928307  -5.7962919E-01   6.4778564E-02\n",
      "      3     -101.8714676221  -3.4074791E-02   3.6876859E-02\n",
      "      4     -101.8823010101  -1.0833388E-02   9.8752127E-03\n",
      "      5     -101.8838813255  -1.5803154E-03   4.2756022E-03\n",
      "      6     -101.8842173839  -3.3605834E-04   1.5305336E-03\n",
      "      7     -101.8842423420  -2.4958093E-05   6.7786571E-04\n",
      "      8     -101.8842522981  -9.9561782E-06   3.4334267E-04\n",
      "      9     -101.8842538142  -1.5161058E-06   8.6529891E-05\n",
      "------------------------------------------------------------\n",
      "\n",
      " total:                                   1.952 sec\n",
      "tensor([101.8843]) torch.Size([1])\n"
     ]
    },
    {
     "data": {
      "text/plain": [
       "(tensor(101.8849), tensor(101.8843))"
      ]
     },
     "execution_count": 10,
     "metadata": {},
     "output_type": "execute_result"
    }
   ],
   "source": [
    "e0 = energy_function(coords[0])\n",
    "grads = energy_function.get_gradient(coords[0])\n",
    "e1 = energy_function(coords[0] + 1e0 * grads)\n",
    "e0, e1"
   ]
  },
  {
   "cell_type": "code",
   "execution_count": 5,
   "metadata": {},
   "outputs": [],
   "source": [
    "\n",
    "energy_function = LennardJonesEnergy(dimensionality = 39,\n",
    "        n_particles = 13,\n",
    "        data_path = 'data/test_split_LJ13-1000.npy',\n",
    "        data_path_train = \"data/train_split_LJ13-1000.npy\",\n",
    "        data_path_val =  \"data/test_split_LJ13-1000.npy\")\n",
    "\n",
    "noise_schedule = GeometricNoiseSchedule(sigma_min=0.01, sigma_max=2)\n",
    "num_mc_samples = 10\n",
    "clipper = Clipper(should_clip_scores=True,\n",
    "                should_clip_log_rewards= False,\n",
    "                max_score_norm= 20,\n",
    "                min_log_reward= None)"
   ]
  },
  {
   "cell_type": "code",
   "execution_count": 6,
   "metadata": {},
   "outputs": [],
   "source": [
    "bs = 5\n",
    "t = torch.Tensor([bs])\n",
    "x = torch.rand(bs,39)\n"
   ]
  },
  {
   "cell_type": "code",
   "execution_count": 72,
   "metadata": {},
   "outputs": [],
   "source": [
    "samples, log_rewards = get_logreward_noised_samples(t, x, energy_function, noise_schedule, num_mc_samples, clipper)"
   ]
  },
  {
   "cell_type": "code",
   "execution_count": 73,
   "metadata": {},
   "outputs": [
    {
     "data": {
      "text/plain": [
       "(torch.Size([10, 5, 39]), torch.Size([10, 1, 5]))"
      ]
     },
     "execution_count": 73,
     "metadata": {},
     "output_type": "execute_result"
    }
   ],
   "source": [
    "samples.shape, log_rewards.shape"
   ]
  },
  {
   "cell_type": "code",
   "execution_count": 27,
   "metadata": {},
   "outputs": [],
   "source": [
    "weights = torch.softmax(log_rewards, dim=-1).unsqueeze(-1)"
   ]
  },
  {
   "cell_type": "code",
   "execution_count": 32,
   "metadata": {},
   "outputs": [
    {
     "data": {
      "text/plain": [
       "(tensor([[-7.0318e+01],\n",
       "         [-6.5862e+01],\n",
       "         [-3.2641e+04],\n",
       "         [-3.0963e+02],\n",
       "         [-9.7251e+01],\n",
       "         [-6.8172e+01],\n",
       "         [-6.4121e+01],\n",
       "         [-2.0791e+07],\n",
       "         [-4.7405e+05],\n",
       "         [-7.2687e+01]]),\n",
       " tensor([[1.7046e-03],\n",
       "         [1.4672e-01],\n",
       "         [0.0000e+00],\n",
       "         [0.0000e+00],\n",
       "         [3.4255e-15],\n",
       "         [1.4573e-02],\n",
       "         [8.3685e-01],\n",
       "         [0.0000e+00],\n",
       "         [0.0000e+00],\n",
       "         [1.5948e-04]]))"
      ]
     },
     "execution_count": 32,
     "metadata": {},
     "output_type": "execute_result"
    }
   ],
   "source": [
    "log_rewards, torch.exp(log_rewards)/torch.sum(torch.exp(log_rewards))"
   ]
  },
  {
   "cell_type": "code",
   "execution_count": 35,
   "metadata": {},
   "outputs": [
    {
     "data": {
      "text/plain": [
       "tensor([[1.7046e-03],\n",
       "        [1.4672e-01],\n",
       "        [0.0000e+00],\n",
       "        [0.0000e+00],\n",
       "        [3.4248e-15],\n",
       "        [1.4573e-02],\n",
       "        [8.3685e-01],\n",
       "        [0.0000e+00],\n",
       "        [0.0000e+00],\n",
       "        [1.5948e-04]])"
      ]
     },
     "execution_count": 35,
     "metadata": {},
     "output_type": "execute_result"
    }
   ],
   "source": [
    "torch.softmax(log_rewards, dim=0)"
   ]
  },
  {
   "cell_type": "code",
   "execution_count": 3,
   "metadata": {},
   "outputs": [],
   "source": [
    "def f(x):\n",
    "    return x\n",
    "\n",
    "gradf = torch.func.grad(f)"
   ]
  },
  {
   "cell_type": "code",
   "execution_count": 6,
   "metadata": {},
   "outputs": [
    {
     "data": {
      "text/plain": [
       "tensor(1.)"
      ]
     },
     "execution_count": 6,
     "metadata": {},
     "output_type": "execute_result"
    }
   ],
   "source": [
    "gradf(torch.tensor(1.0))"
   ]
  },
  {
   "cell_type": "markdown",
   "metadata": {},
   "source": [
    "###  Make datasets for cyclic peptides idem"
   ]
  },
  {
   "cell_type": "code",
   "execution_count": 1,
   "metadata": {},
   "outputs": [
    {
     "data": {
      "text/plain": [
       "(10000, 39)"
      ]
     },
     "execution_count": 1,
     "metadata": {},
     "output_type": "execute_result"
    }
   ],
   "source": [
    "import numpy as np\n",
    "\n",
    "data = np.load('data/test_split_LJ13-1000.npy')\n",
    "data.shape"
   ]
  },
  {
   "cell_type": "code",
   "execution_count": 4,
   "metadata": {},
   "outputs": [],
   "source": [
    "from Bio import PDB\n",
    "import numpy as np\n",
    "import periodictable\n",
    "\n",
    "def get_atomicnumber(max_Z = 50):\n",
    "    '''Maps the atomic number to the atom elements in the periodic table.'''\n",
    "    atom2atomicnumber = {}\n",
    "    atomicnumber2atom = {}\n",
    "    for atomicnumber in range(max_Z):\n",
    "        element = periodictable.elements[atomicnumber + 1] \n",
    "        atom2atomicnumber[element.symbol] = atomicnumber + 1\n",
    "        atomicnumber2atom[atomicnumber + 1] = element.symbol\n",
    "    return atom2atomicnumber, atomicnumber2atom\n",
    "\n",
    "\n",
    "def extract_column_from_pdb(pdb_path, start, end):\n",
    "    column_data = []\n",
    "    with open(pdb_path, 'r') as pdb_file:\n",
    "        for line in pdb_file:\n",
    "            if line.startswith('ENDMDL'):\n",
    "                break\n",
    "            if line.startswith('ATOM'):\n",
    "                column_value = line[start:end].strip() \n",
    "                column_data.append(column_value)\n",
    "    return column_data\n",
    "\n",
    "def get_coord(model):\n",
    "    '''Extracts the coordinates of the atoms in the model.'''\n",
    "    coords = []\n",
    "    for chain in model:\n",
    "        for residue in chain:\n",
    "            for atom in residue:\n",
    "                x,y,z = atom.get_coord()\n",
    "                coords.append([x,y,z])\n",
    "    return np.array(coords).flatten()\n",
    "\n",
    "\n",
    "def get_models_atoms(pdb_path ):\n",
    "    '''Extracts the models and atom ids from the pdb file.'''\n",
    "    atom2atomicnumber, _ = get_atomicnumber()\n",
    "    parser = PDB.PDBParser()\n",
    "    io = PDB.PDBIO()\n",
    "    struct = parser.get_structure('structure_id',f'{pdb_path}')\n",
    "    atom_names = []\n",
    "    models = list(struct.get_models())\n",
    "    atom_names = extract_column_from_pdb(f'{pdb_path}', 77, 78)\n",
    "    atom_ids = np.array([atom2atomicnumber[x] for x in atom_names ])\n",
    "    return models, atom_ids\n",
    "\n",
    "def get_coords(pdb_path):\n",
    "    models, atom_ids = get_models_atoms(pdb_path)\n",
    "    coords = []\n",
    "    for model in models:\n",
    "        coords.append(get_coord(model))\n",
    "    return np.array(coords)\n"
   ]
  },
  {
   "cell_type": "code",
   "execution_count": 5,
   "metadata": {},
   "outputs": [
    {
     "data": {
      "text/plain": [
       "(283, 207)"
      ]
     },
     "execution_count": 5,
     "metadata": {},
     "output_type": "execute_result"
    }
   ],
   "source": [
    "pdb_path = '/home/mila/l/lena-nehale.ezzine/Amgen/DEM/data/T.I.f.V.pdb'\n",
    "coords = get_coords(pdb_path)\n",
    "coords.shape"
   ]
  },
  {
   "cell_type": "code",
   "execution_count": 6,
   "metadata": {},
   "outputs": [],
   "source": [
    "coords_train, coords_val = np.array([]), coords\n",
    "np.save('/home/mila/l/lena-nehale.ezzine/Amgen/DEM/data/TIfV_train.npy', coords_train)\n",
    "np.save('/home/mila/l/lena-nehale.ezzine/Amgen/DEM/data/TIfV_val.npy', coords_val)\n"
   ]
  },
  {
   "cell_type": "markdown",
   "metadata": {},
   "source": [
    "# TorchANI"
   ]
  },
  {
   "cell_type": "code",
   "execution_count": 1,
   "metadata": {},
   "outputs": [],
   "source": [
    "import numpy as np\n",
    "import pickle\n",
    "import torch\n",
    "#device = torch.device('cuda' if torch.cuda.is_available() else 'cpu')\n",
    "device = torch.device('cpu')\n",
    "coords = torch.tensor(np.load('/home/mila/l/lena-nehale.ezzine/Amgen/DEM_fork/data/TIfV_val.npy'), dtype=torch.float32).to(device).view(-1,69,3)\n",
    "coords.requires_grad = True\n",
    "atom_ids = torch.Tensor(pickle.load(open('/home/mila/l/lena-nehale.ezzine/Amgen/DEM_fork/data/atom_ids.pkl', 'rb'))).to(device).long().unsqueeze(0)"
   ]
  },
  {
   "cell_type": "code",
   "execution_count": 5,
   "metadata": {},
   "outputs": [
    {
     "name": "stdout",
     "output_type": "stream",
     "text": [
      "/home/mila/l/lena-nehale.ezzine/Amgen/DEM_fork/y/envs/dem/lib/python3.10/site-packages/torchani/resources/\n"
     ]
    }
   ],
   "source": [
    "\n",
    "import torchani\n",
    "\n",
    "model = torchani.models.ANI2x(periodic_table_index=True).to(device)"
   ]
  },
  {
   "cell_type": "code",
   "execution_count": 7,
   "metadata": {},
   "outputs": [
    {
     "data": {
      "text/plain": [
       "SpeciesEnergies(species=tensor([[1, 1, 1, 1, 1, 2, 1, 3, 0, 0, 0, 0, 0, 0, 0, 0, 0, 0, 0, 1, 3, 1, 1, 1,\n",
       "         1, 1, 1, 1, 1, 2, 0, 0, 0, 0, 0, 0, 0, 0, 0, 1, 3, 1, 1, 1, 1, 2, 0, 0,\n",
       "         0, 0, 0, 0, 0, 0, 0, 1, 3, 1, 1, 1, 3, 2, 0, 0, 0, 0, 0, 0, 0],\n",
       "        [1, 1, 1, 1, 1, 2, 1, 3, 0, 0, 0, 0, 0, 0, 0, 0, 0, 0, 0, 1, 3, 1, 1, 1,\n",
       "         1, 1, 1, 1, 1, 2, 0, 0, 0, 0, 0, 0, 0, 0, 0, 1, 3, 1, 1, 1, 1, 2, 0, 0,\n",
       "         0, 0, 0, 0, 0, 0, 0, 1, 3, 1, 1, 1, 3, 2, 0, 0, 0, 0, 0, 0, 0],\n",
       "        [1, 1, 1, 1, 1, 2, 1, 3, 0, 0, 0, 0, 0, 0, 0, 0, 0, 0, 0, 1, 3, 1, 1, 1,\n",
       "         1, 1, 1, 1, 1, 2, 0, 0, 0, 0, 0, 0, 0, 0, 0, 1, 3, 1, 1, 1, 1, 2, 0, 0,\n",
       "         0, 0, 0, 0, 0, 0, 0, 1, 3, 1, 1, 1, 3, 2, 0, 0, 0, 0, 0, 0, 0],\n",
       "        [1, 1, 1, 1, 1, 2, 1, 3, 0, 0, 0, 0, 0, 0, 0, 0, 0, 0, 0, 1, 3, 1, 1, 1,\n",
       "         1, 1, 1, 1, 1, 2, 0, 0, 0, 0, 0, 0, 0, 0, 0, 1, 3, 1, 1, 1, 1, 2, 0, 0,\n",
       "         0, 0, 0, 0, 0, 0, 0, 1, 3, 1, 1, 1, 3, 2, 0, 0, 0, 0, 0, 0, 0],\n",
       "        [1, 1, 1, 1, 1, 2, 1, 3, 0, 0, 0, 0, 0, 0, 0, 0, 0, 0, 0, 1, 3, 1, 1, 1,\n",
       "         1, 1, 1, 1, 1, 2, 0, 0, 0, 0, 0, 0, 0, 0, 0, 1, 3, 1, 1, 1, 1, 2, 0, 0,\n",
       "         0, 0, 0, 0, 0, 0, 0, 1, 3, 1, 1, 1, 3, 2, 0, 0, 0, 0, 0, 0, 0],\n",
       "        [1, 1, 1, 1, 1, 2, 1, 3, 0, 0, 0, 0, 0, 0, 0, 0, 0, 0, 0, 1, 3, 1, 1, 1,\n",
       "         1, 1, 1, 1, 1, 2, 0, 0, 0, 0, 0, 0, 0, 0, 0, 1, 3, 1, 1, 1, 1, 2, 0, 0,\n",
       "         0, 0, 0, 0, 0, 0, 0, 1, 3, 1, 1, 1, 3, 2, 0, 0, 0, 0, 0, 0, 0],\n",
       "        [1, 1, 1, 1, 1, 2, 1, 3, 0, 0, 0, 0, 0, 0, 0, 0, 0, 0, 0, 1, 3, 1, 1, 1,\n",
       "         1, 1, 1, 1, 1, 2, 0, 0, 0, 0, 0, 0, 0, 0, 0, 1, 3, 1, 1, 1, 1, 2, 0, 0,\n",
       "         0, 0, 0, 0, 0, 0, 0, 1, 3, 1, 1, 1, 3, 2, 0, 0, 0, 0, 0, 0, 0],\n",
       "        [1, 1, 1, 1, 1, 2, 1, 3, 0, 0, 0, 0, 0, 0, 0, 0, 0, 0, 0, 1, 3, 1, 1, 1,\n",
       "         1, 1, 1, 1, 1, 2, 0, 0, 0, 0, 0, 0, 0, 0, 0, 1, 3, 1, 1, 1, 1, 2, 0, 0,\n",
       "         0, 0, 0, 0, 0, 0, 0, 1, 3, 1, 1, 1, 3, 2, 0, 0, 0, 0, 0, 0, 0],\n",
       "        [1, 1, 1, 1, 1, 2, 1, 3, 0, 0, 0, 0, 0, 0, 0, 0, 0, 0, 0, 1, 3, 1, 1, 1,\n",
       "         1, 1, 1, 1, 1, 2, 0, 0, 0, 0, 0, 0, 0, 0, 0, 1, 3, 1, 1, 1, 1, 2, 0, 0,\n",
       "         0, 0, 0, 0, 0, 0, 0, 1, 3, 1, 1, 1, 3, 2, 0, 0, 0, 0, 0, 0, 0],\n",
       "        [1, 1, 1, 1, 1, 2, 1, 3, 0, 0, 0, 0, 0, 0, 0, 0, 0, 0, 0, 1, 3, 1, 1, 1,\n",
       "         1, 1, 1, 1, 1, 2, 0, 0, 0, 0, 0, 0, 0, 0, 0, 1, 3, 1, 1, 1, 1, 2, 0, 0,\n",
       "         0, 0, 0, 0, 0, 0, 0, 1, 3, 1, 1, 1, 3, 2, 0, 0, 0, 0, 0, 0, 0]]), energies=tensor([-1531.1035, -1531.1037, -1531.1033, -1531.1062, -1531.1061, -1531.1061,\n",
       "        -1531.1038, -1531.1041, -1531.1065, -1531.1064], dtype=torch.float64,\n",
       "       grad_fn=<AddBackward0>))"
      ]
     },
     "execution_count": 7,
     "metadata": {},
     "output_type": "execute_result"
    }
   ],
   "source": [
    "model((atom_ids.repeat(10,1), coords[:10]))"
   ]
  },
  {
   "cell_type": "code",
   "execution_count": 2,
   "metadata": {},
   "outputs": [
    {
     "data": {
      "text/plain": [
       "(tensor(7.0580, device='cuda:0', grad_fn=<MaxBackward1>),\n",
       " tensor(-7.8810, device='cuda:0', grad_fn=<MinBackward1>),\n",
       " tensor(0.0212, device='cuda:0', grad_fn=<MeanBackward0>),\n",
       " tensor(2.5340, device='cuda:0', grad_fn=<StdBackward0>))"
      ]
     },
     "execution_count": 2,
     "metadata": {},
     "output_type": "execute_result"
    }
   ],
   "source": [
    "\n",
    "\n",
    "abs_coords = torch.abs(coords)\n",
    "#abs_coords.max(), abs_coords.min(), abs_coords.mean(), abs_coords.std()\n",
    "coords.max(), coords.min(), coords.mean(), coords.std()\n"
   ]
  },
  {
   "cell_type": "markdown",
   "metadata": {},
   "source": [
    "Let's compare the torchANI-energy distribution for conformations optimized using GFN2xtb, vs random conformations. If they are the same, torchANI is not a good proxy for GFN2xtb."
   ]
  },
  {
   "cell_type": "code",
   "execution_count": 3,
   "metadata": {},
   "outputs": [],
   "source": [
    "def get_logrew(coords):\n",
    "    return - model((atom_ids.repeat(len(coords), 1), coords)).energies\n",
    "\n",
    "test_data_logrews =  get_logrew(coords)\n",
    "random_data_logrews = get_logrew(3*torch.rand_like(coords).requires_grad_(True))\n",
    "\n",
    "i=0\n",
    "derivative = torch.stack([torch.autograd.grad( test_data_logrews[i] , coords, retain_graph=True)[0][i] for i in range(len(coords))])\n",
    "derivative.shape  "
   ]
  },
  {
   "cell_type": "code",
   "execution_count": 4,
   "metadata": {},
   "outputs": [
    {
     "name": "stderr",
     "output_type": "stream",
     "text": [
      "/tmp/ipykernel_767406/1542577825.py:11: UserWarning: set_ticklabels() should only be used with a fixed number of ticks, i.e. after set_ticks() or using a FixedLocator.\n",
      "  ax.set_xticklabels([x for x in dict_data.keys() ])\n"
     ]
    },
    {
     "data": {
      "image/png": "[encoded data removed]",
      "text/plain": [
       "<Figure size 1000x700 with 1 Axes>"
      ]
     },
     "metadata": {},
     "output_type": "display_data"
    }
   ],
   "source": [
    "import matplotlib.pyplot as plt\n",
    "\n",
    "#plt.hist(test_data_energies.detach().cpu(), bins = 50)\n",
    "#plt.hist(random_data_energies.detach().cpu(), bins = 50)\n",
    "\n",
    "dict_data = {'test_data_logrews': test_data_logrews.detach().cpu() , 'random_data_logrews':  random_data_logrews.detach().cpu()}\n",
    "data = [x for x in dict_data.values()]\n",
    " \n",
    "fig = plt.figure(figsize =(10, 7)) \n",
    "ax = fig.add_axes([0, 0, 1, 1])\n",
    "ax.set_xticklabels([x for x in dict_data.keys() ])\n",
    "ax.set_title('log-reward distribution')\n",
    "# Creating plot\n",
    "bp = ax.boxplot(data)\n",
    "\n",
    "# show plot\n",
    "plt.show()\n"
   ]
  },
  {
   "cell_type": "code",
   "execution_count": 2,
   "metadata": {},
   "outputs": [
    {
     "name": "stderr",
     "output_type": "stream",
     "text": [
      "/home/mila/l/lena-nehale.ezzine/Amgen/DEM_fork/y/envs/dem/lib/python3.10/site-packages/torchani/aev.py:16: UserWarning: cuaev not installed\n",
      "  warnings.warn(\"cuaev not installed\")\n",
      "/home/mila/l/lena-nehale.ezzine/Amgen/DEM_fork/y/envs/dem/lib/python3.10/site-packages/torchani/__init__.py:55: UserWarning: Dependency not satisfied, torchani.ase will not be available\n",
      "  warnings.warn(\"Dependency not satisfied, torchani.ase will not be available\")\n"
     ]
    },
    {
     "name": "stdout",
     "output_type": "stream",
     "text": [
      "/home/mila/l/lena-nehale.ezzine/Amgen/DEM_fork/y/envs/dem/lib/python3.10/site-packages/torchani/resources/\n"
     ]
    }
   ],
   "source": [
    "from dem.energies.torchani_energy import *\n",
    "energy_function = TorchaniEnergy(dimensionality = 3*69, n_particles = 69, is_molecule=True, data_path ='/home/mila/l/lena-nehale.ezzine/Amgen/DEM_fork/data/TIfV_val.npy',   data_path_train='/home/mila/l/lena-nehale.ezzine/Amgen/DEM_fork/data/TIfV_train.npy', data_path_val='/home/mila/l/lena-nehale.ezzine/Amgen/DEM_fork/data/TIfV_val.npy', T=0.1, device= device)"
   ]
  },
  {
   "cell_type": "code",
   "execution_count": 3,
   "metadata": {},
   "outputs": [
    {
     "data": {
      "text/plain": [
       "tensor([87340.1968, 82241.2984, 84152.4234, 85947.9390, 87001.6421, 86114.8140,\n",
       "        84370.3921, 85882.9859, 85966.4859, 84409.5249], dtype=torch.float64,\n",
       "       grad_fn=<ViewBackward0>)"
      ]
     },
     "execution_count": 3,
     "metadata": {},
     "output_type": "execute_result"
    }
   ],
   "source": [
    "energy_function(torch.rand_like(coords[:10]))"
   ]
  },
  {
   "cell_type": "code",
   "execution_count": 5,
   "metadata": {},
   "outputs": [
    {
     "data": {
      "text/plain": [
       "tensor([1531.1035, 1531.1037, 1531.1033, 1531.1062, 1531.1061, 1531.1061,\n",
       "        1531.1038, 1531.1041, 1531.1065, 1531.1064], device='cuda:0',\n",
       "       dtype=torch.float64, grad_fn=<ViewBackward0>)"
      ]
     },
     "execution_count": 5,
     "metadata": {},
     "output_type": "execute_result"
    }
   ],
   "source": [
    "energy_function(coords[:10])"
   ]
  },
  {
   "cell_type": "code",
   "execution_count": 6,
   "metadata": {},
   "outputs": [
    {
     "name": "stdout",
     "output_type": "stream",
     "text": [
      "cuda tensor([[[ 0.6320,  5.4290, -1.8180],\n",
      "         [ 0.2210,  4.4380, -0.7350],\n",
      "         [-0.3180,  3.1200, -1.3060],\n",
      "         ...,\n",
      "         [ 4.9660,  0.5260,  2.8970],\n",
      "         [ 3.7010,  1.2940, -0.3680],\n",
      "         [ 1.8830, -1.3830,  1.7850]],\n",
      "\n",
      "        [[ 0.7240,  5.4200, -1.8250],\n",
      "         [ 0.2820,  4.4520, -0.7330],\n",
      "         [-0.2860,  3.1420, -1.2940],\n",
      "         ...,\n",
      "         [ 5.0740, -0.0450,  1.1940],\n",
      "         [ 3.7180,  1.2870, -0.3800],\n",
      "         [ 1.8930, -1.3780,  1.7820]],\n",
      "\n",
      "        [[ 0.5120,  5.5040, -1.7360],\n",
      "         [ 0.1740,  4.4780, -0.6590],\n",
      "         [-0.3650,  3.1630, -1.2330],\n",
      "         ...,\n",
      "         [ 5.0790,  0.5730,  2.7570],\n",
      "         [ 3.6930,  1.2610, -0.4740],\n",
      "         [ 1.9320, -1.3500,  1.7980]],\n",
      "\n",
      "        ...,\n",
      "\n",
      "        [[ 0.8220,  5.0030, -0.2270],\n",
      "         [-0.6420,  4.5970, -0.3570],\n",
      "         [-0.8700,  3.1870, -0.9150],\n",
      "         ...,\n",
      "         [ 5.9950,  1.7560, -0.2160],\n",
      "         [ 4.1240,  2.3290, -1.5260],\n",
      "         [ 2.1020, -0.2220, -0.5840]],\n",
      "\n",
      "        [[ 3.1000,  4.2590, -1.1760],\n",
      "         [ 1.6500,  4.7000, -1.3470],\n",
      "         [ 0.6750,  3.5730, -1.7170],\n",
      "         ...,\n",
      "         [ 3.5750,  3.0240,  2.1410],\n",
      "         [ 4.5950, -0.8060,  1.2230],\n",
      "         [ 1.3160, -1.1800,  1.7860]],\n",
      "\n",
      "        [[ 1.7520,  5.0690, -2.3130],\n",
      "         [ 0.8760,  4.2010, -1.4170],\n",
      "         [ 0.3420,  2.9530, -2.1290],\n",
      "         ...,\n",
      "         [ 1.8360,  2.4320,  3.7600],\n",
      "         [ 3.1280,  0.3480,  3.8740],\n",
      "         [ 0.8720, -1.6080,  1.6850]]], device='cuda:0',\n",
      "       grad_fn=<ViewBackward0>) tensor([1531.1035, 1531.1037, 1531.1033, 1531.1062, 1531.1061, 1531.1061,\n",
      "        1531.1038, 1531.1041, 1531.1065, 1531.1064, 1531.1017, 1531.1016,\n",
      "        1531.1011, 1531.1009, 1531.1045, 1531.1041, 1531.1039, 1531.1036,\n",
      "        1531.1007, 1531.1006, 1531.1010, 1531.1007, 1531.1012, 1531.1011,\n",
      "        1531.1034, 1531.1035, 1531.1036, 1531.1009, 1531.1009, 1531.1036,\n",
      "        1531.1026, 1531.1026, 1531.1022, 1531.1026, 1531.1022, 1531.1017,\n",
      "        1531.1018, 1531.1037, 1531.1037, 1531.0977, 1531.0974, 1531.1047,\n",
      "        1531.1012, 1531.1011, 1531.1044, 1531.1045, 1531.0989, 1531.0989,\n",
      "        1531.1000, 1531.0982, 1531.0982, 1531.0985, 1531.0998, 1531.0978,\n",
      "        1531.1039, 1531.1039, 1531.1016, 1531.1016, 1531.1010, 1531.1002,\n",
      "        1531.1026, 1531.1025, 1531.0924, 1531.1000, 1531.0924, 1531.0997,\n",
      "        1531.0983, 1531.0984, 1531.0997, 1531.0959, 1531.1028, 1531.0991,\n",
      "        1531.1028, 1531.1028, 1531.0953, 1531.0953, 1531.1011, 1531.0998,\n",
      "        1531.0998, 1531.0998, 1531.0997, 1531.0990, 1531.0984, 1531.0983,\n",
      "        1531.0981, 1531.0993, 1531.0979, 1531.0975, 1531.0976, 1531.0974,\n",
      "        1531.0968, 1531.0949, 1531.0948, 1531.0948, 1531.0951, 1531.1020,\n",
      "        1531.0951, 1531.0951, 1531.0952, 1531.1019, 1531.0985, 1531.1018,\n",
      "        1531.0976, 1531.1009, 1531.1007, 1531.0896, 1531.1001, 1531.0975,\n",
      "        1531.0976, 1531.0978, 1531.1005, 1531.0952, 1531.0954, 1531.0953,\n",
      "        1531.0972, 1531.1002, 1531.1001, 1531.0965, 1531.0963, 1531.0990,\n",
      "        1531.1001, 1531.0989, 1531.0989, 1531.0957, 1531.0990, 1531.0973,\n",
      "        1531.1001, 1531.0922, 1531.0998, 1531.0986, 1531.0986, 1531.0955,\n",
      "        1531.0933, 1531.0946, 1531.0942, 1531.0929, 1531.0941, 1531.0927,\n",
      "        1531.0926, 1531.0978, 1531.0981, 1531.0985, 1531.1011, 1531.0956,\n",
      "        1531.0954, 1531.0999, 1531.0972, 1531.0999, 1531.0947, 1531.0944,\n",
      "        1531.0943, 1531.0888, 1531.0927, 1531.1005, 1531.0927, 1531.0869,\n",
      "        1531.0904, 1531.0873, 1531.0873, 1531.0903, 1531.0951, 1531.0937,\n",
      "        1531.0977, 1531.0952, 1531.0977, 1531.0977, 1531.0894, 1531.0924,\n",
      "        1531.0938, 1531.0939, 1531.0918, 1531.0943, 1531.0977, 1531.0929,\n",
      "        1531.0976, 1531.0977, 1531.0960, 1531.0985, 1531.0855, 1531.0948,\n",
      "        1531.0867, 1531.0946, 1531.0949, 1531.0856, 1531.0930, 1531.0852,\n",
      "        1531.0930, 1531.0956, 1531.0969, 1531.0919, 1531.0918, 1531.0917,\n",
      "        1531.0833, 1531.0918, 1531.0841, 1531.0916, 1531.0947, 1531.0841,\n",
      "        1531.0909, 1531.0908, 1531.0910, 1531.0946, 1531.0964, 1531.0949,\n",
      "        1531.0972, 1531.0886, 1531.0838, 1531.0895, 1531.0969, 1531.0838,\n",
      "        1531.0925, 1531.0989, 1531.0830, 1531.0811, 1531.0932, 1531.0838,\n",
      "        1531.0970, 1531.0969, 1531.0971, 1531.0840, 1531.0818, 1531.0909,\n",
      "        1531.0908, 1531.0815, 1531.0974, 1531.0930, 1531.0966, 1531.0933,\n",
      "        1531.0867, 1531.0923, 1531.0835, 1531.0837, 1531.0922, 1531.0878,\n",
      "        1531.0997, 1531.0821, 1531.0963, 1531.0958, 1531.0937, 1531.0871,\n",
      "        1531.0892, 1531.0829, 1531.0848, 1531.0900, 1531.0831, 1531.0827,\n",
      "        1531.0846, 1531.0924, 1531.0893, 1531.0871, 1531.0867, 1531.0889,\n",
      "        1531.0866, 1531.0806, 1531.0963, 1531.0962, 1531.0982, 1531.0818,\n",
      "        1531.0869, 1531.0830, 1531.0911, 1531.0804, 1531.0850, 1531.0896,\n",
      "        1531.0896, 1531.0850, 1531.0827, 1531.0845, 1531.0846, 1531.0827,\n",
      "        1531.0812, 1531.0813, 1531.0812, 1531.0823, 1531.0813, 1531.0835,\n",
      "        1531.0847, 1531.0832, 1531.0861, 1531.0835, 1531.0808, 1531.0948,\n",
      "        1531.0835], device='cuda:0', dtype=torch.float64,\n",
      "       grad_fn=<ViewBackward0>)\n"
     ]
    },
    {
     "data": {
      "text/plain": [
       "torch.Size([283, 69, 3])"
      ]
     },
     "execution_count": 6,
     "metadata": {},
     "output_type": "execute_result"
    }
   ],
   "source": [
    "grads = energy_function.score(coords)\n",
    "grads.shape"
   ]
  },
  {
   "cell_type": "code",
   "execution_count": null,
   "metadata": {},
   "outputs": [],
   "source": []
  },
  {
   "cell_type": "code",
   "execution_count": 9,
   "metadata": {},
   "outputs": [],
   "source": [
    "torch.cuda.empty_cache()"
   ]
  },
  {
   "cell_type": "code",
   "execution_count": 10,
   "metadata": {},
   "outputs": [
    {
     "name": "stdout",
     "output_type": "stream",
     "text": [
      "total    : 34359738368\n",
      "free     : 7981105152\n",
      "used     : 26378633216\n"
     ]
    }
   ],
   "source": [
    "from pynvml import *\n",
    "nvmlInit()\n",
    "h = nvmlDeviceGetHandleByIndex(0)\n",
    "info = nvmlDeviceGetMemoryInfo(h)\n",
    "print(f'total    : {info.total}')\n",
    "print(f'free     : {info.free}')\n",
    "print(f'used     : {info.used}')"
   ]
  },
  {
   "cell_type": "code",
   "execution_count": 19,
   "metadata": {},
   "outputs": [
    {
     "name": "stdout",
     "output_type": "stream",
     "text": [
      "tensor(4.6194e-07, device='cuda:0')\n",
      "derivative mean tensor(0.0061, device='cuda:0')\n",
      "grads mean tensor(0.0061)\n"
     ]
    }
   ],
   "source": [
    "print(torch.abs(grads.to(device) -  derivative[:100]).max() ),  \n",
    "print('derivative mean', torch.abs(derivative).mean() )\n",
    "print('grads mean', torch.abs(grads).mean() )"
   ]
  },
  {
   "cell_type": "code",
   "execution_count": 22,
   "metadata": {},
   "outputs": [
    {
     "data": {
      "text/plain": [
       "(array([6.964e+03, 4.436e+03, 2.440e+03, 1.481e+03, 1.095e+03, 7.640e+02,\n",
       "        6.560e+02, 4.640e+02, 4.480e+02, 3.340e+02, 2.950e+02, 2.650e+02,\n",
       "        2.280e+02, 1.490e+02, 1.590e+02, 1.010e+02, 8.500e+01, 6.600e+01,\n",
       "        5.200e+01, 3.400e+01, 3.800e+01, 2.500e+01, 2.100e+01, 1.900e+01,\n",
       "        1.500e+01, 1.300e+01, 1.300e+01, 9.000e+00, 4.000e+00, 4.000e+00,\n",
       "        6.000e+00, 4.000e+00, 2.000e+00, 3.000e+00, 2.000e+00, 1.000e+00,\n",
       "        1.000e+00, 0.000e+00, 1.000e+00, 1.000e+00, 0.000e+00, 0.000e+00,\n",
       "        0.000e+00, 0.000e+00, 0.000e+00, 1.000e+00, 0.000e+00, 0.000e+00,\n",
       "        0.000e+00, 1.000e+00]),\n",
       " array([0.00000000e+00, 9.23872001e-09, 1.84774400e-08, 2.77161600e-08,\n",
       "        3.69548800e-08, 4.61935983e-08, 5.54323201e-08, 6.46710419e-08,\n",
       "        7.39097601e-08, 8.31484783e-08, 9.23871966e-08, 1.01625922e-07,\n",
       "        1.10864640e-07, 1.20103365e-07, 1.29342084e-07, 1.38580802e-07,\n",
       "        1.47819520e-07, 1.57058238e-07, 1.66296957e-07, 1.75535675e-07,\n",
       "        1.84774393e-07, 1.94013126e-07, 2.03251844e-07, 2.12490562e-07,\n",
       "        2.21729280e-07, 2.30967999e-07, 2.40206731e-07, 2.49445435e-07,\n",
       "        2.58684167e-07, 2.67922871e-07, 2.77161604e-07, 2.86400308e-07,\n",
       "        2.95639040e-07, 3.04877744e-07, 3.14116477e-07, 3.23355209e-07,\n",
       "        3.32593913e-07, 3.41832646e-07, 3.51071350e-07, 3.60310082e-07,\n",
       "        3.69548786e-07, 3.78787519e-07, 3.88026251e-07, 3.97264955e-07,\n",
       "        4.06503688e-07, 4.15742392e-07, 4.24981124e-07, 4.34219828e-07,\n",
       "        4.43458561e-07, 4.52697265e-07, 4.61935997e-07]),\n",
       " <BarContainer object of 50 artists>)"
      ]
     },
     "execution_count": 22,
     "metadata": {},
     "output_type": "execute_result"
    },
    {
     "data": {
      "image/png": "[encoded data removed]",
      "text/plain": [
       "<Figure size 640x480 with 1 Axes>"
      ]
     },
     "metadata": {},
     "output_type": "display_data"
    }
   ],
   "source": [
    "plt.hist(torch.abs(grads.to(device) -  derivative[:100]).detach().cpu().flatten(), bins=50)"
   ]
  },
  {
   "cell_type": "code",
   "execution_count": 18,
   "metadata": {},
   "outputs": [],
   "source": [
    "import numpy as np\n",
    "data = np.load('/home/mila/l/lena-nehale.ezzine/Amgen/DEM_fork/data/test_split_LJ13-1000.npy')"
   ]
  },
  {
   "cell_type": "code",
   "execution_count": 19,
   "metadata": {},
   "outputs": [
    {
     "data": {
      "text/plain": [
       "(3.5050895, 4.6491623e-06, 0.5592112, 0.3879446)"
      ]
     },
     "execution_count": 19,
     "metadata": {},
     "output_type": "execute_result"
    }
   ],
   "source": [
    "np.abs(data).max(), np.abs(data).min(), np.abs(data).mean(), np.abs(data).std()"
   ]
  },
  {
   "cell_type": "code",
   "execution_count": 20,
   "metadata": {},
   "outputs": [
    {
     "data": {
      "text/plain": [
       "(array([7.0000e+00, 6.0000e+00, 1.0000e+01, 2.1000e+01, 3.2000e+01,\n",
       "        4.6000e+01, 7.4000e+01, 1.6100e+02, 3.0500e+02, 5.2400e+02,\n",
       "        1.0470e+03, 2.0450e+03, 3.6190e+03, 6.2370e+03, 9.5120e+03,\n",
       "        1.3156e+04, 1.6953e+04, 1.9372e+04, 2.1219e+04, 2.3010e+04,\n",
       "        2.4631e+04, 2.5457e+04, 2.7066e+04, 2.6912e+04, 2.5750e+04,\n",
       "        2.4668e+04, 2.3018e+04, 2.1360e+04, 1.9251e+04, 1.6675e+04,\n",
       "        1.3370e+04, 9.6600e+03, 6.5460e+03, 3.7930e+03, 2.1200e+03,\n",
       "        1.1280e+03, 5.5500e+02, 2.8900e+02, 1.5200e+02, 1.0200e+02,\n",
       "        5.0000e+01, 3.5000e+01, 1.9000e+01, 1.5000e+01, 7.0000e+00,\n",
       "        7.0000e+00, 2.0000e+00, 2.0000e+00, 2.0000e+00, 2.0000e+00]),\n",
       " array([-2.99143577e+00, -2.86150527e+00, -2.73157477e+00, -2.60164428e+00,\n",
       "        -2.47171378e+00, -2.34178329e+00, -2.21185279e+00, -2.08192229e+00,\n",
       "        -1.95199168e+00, -1.82206118e+00, -1.69213068e+00, -1.56220019e+00,\n",
       "        -1.43226969e+00, -1.30233920e+00, -1.17240870e+00, -1.04247820e+00,\n",
       "        -9.12547648e-01, -7.82617152e-01, -6.52686656e-01, -5.22756159e-01,\n",
       "        -3.92825663e-01, -2.62895137e-01, -1.32964641e-01, -3.03413393e-03,\n",
       "         1.26896366e-01,  2.56826878e-01,  3.86757374e-01,  5.16687870e-01,\n",
       "         6.46618366e-01,  7.76548922e-01,  9.06479418e-01,  1.03640985e+00,\n",
       "         1.16634047e+00,  1.29627097e+00,  1.42620146e+00,  1.55613196e+00,\n",
       "         1.68606246e+00,  1.81599295e+00,  1.94592345e+00,  2.07585406e+00,\n",
       "         2.20578456e+00,  2.33571506e+00,  2.46564555e+00,  2.59557605e+00,\n",
       "         2.72550654e+00,  2.85543704e+00,  2.98536754e+00,  3.11529803e+00,\n",
       "         3.24522853e+00,  3.37515903e+00,  3.50508952e+00]),\n",
       " <BarContainer object of 50 artists>)"
      ]
     },
     "execution_count": 20,
     "metadata": {},
     "output_type": "execute_result"
    },
    {
     "data": {
      "image/png": "[encoded data removed]",
      "text/plain": [
       "<Figure size 640x480 with 1 Axes>"
      ]
     },
     "metadata": {},
     "output_type": "display_data"
    }
   ],
   "source": [
    "plt.hist(data.flatten(),bins = 50)"
   ]
  },
  {
   "cell_type": "code",
   "execution_count": 15,
   "metadata": {},
   "outputs": [],
   "source": [
    "import numpy as np\n",
    "data = np.load('/home/mila/l/lena-nehale.ezzine/Amgen/DEM_fork/data/TIfV_val.npy')"
   ]
  },
  {
   "cell_type": "code",
   "execution_count": 16,
   "metadata": {},
   "outputs": [
    {
     "data": {
      "text/plain": [
       "(7.881, 0.0, 2.0349166, 1.5101234)"
      ]
     },
     "execution_count": 16,
     "metadata": {},
     "output_type": "execute_result"
    }
   ],
   "source": [
    "np.abs(data).max(), np.abs(data).min(), np.abs(data).mean(), np.abs(data).std()"
   ]
  },
  {
   "cell_type": "code",
   "execution_count": 17,
   "metadata": {},
   "outputs": [
    {
     "data": {
      "text/plain": [
       "(array([1.100e+01, 4.200e+01, 9.200e+01, 3.700e+01, 1.630e+02, 2.270e+02,\n",
       "        2.720e+02, 2.630e+02, 1.630e+02, 3.910e+02, 6.230e+02, 6.770e+02,\n",
       "        7.960e+02, 8.510e+02, 6.070e+02, 9.440e+02, 1.520e+03, 1.537e+03,\n",
       "        1.772e+03, 1.919e+03, 2.124e+03, 2.990e+03, 2.242e+03, 2.289e+03,\n",
       "        2.474e+03, 3.027e+03, 2.630e+03, 2.791e+03, 2.598e+03, 2.016e+03,\n",
       "        2.423e+03, 2.640e+03, 2.286e+03, 2.412e+03, 1.778e+03, 1.266e+03,\n",
       "        1.278e+03, 1.025e+03, 9.450e+02, 1.034e+03, 6.110e+02, 6.820e+02,\n",
       "        7.110e+02, 5.010e+02, 3.000e+02, 2.780e+02, 2.310e+02, 6.100e+01,\n",
       "        2.800e+01, 3.000e+00]),\n",
       " array([-7.88100004, -7.58222008, -7.28344011, -6.98466015, -6.68588018,\n",
       "        -6.38710022, -6.08832026, -5.78953981, -5.49075985, -5.19197989,\n",
       "        -4.89319992, -4.59441996, -4.29563999, -3.99686003, -3.69808006,\n",
       "        -3.3993001 , -3.1005199 , -2.80173993, -2.50295997, -2.20418   ,\n",
       "        -1.90540004, -1.60661995, -1.30783999, -1.00906003, -0.71028   ,\n",
       "        -0.41149998, -0.11271998,  0.18606003,  0.48484004,  0.78362006,\n",
       "         1.08240008,  1.38118005,  1.67996001,  1.9787401 ,  2.27751994,\n",
       "         2.57630014,  2.87508011,  3.17386007,  3.47264004,  3.77142   ,\n",
       "         4.07019997,  4.36897993,  4.6677599 ,  4.96653986,  5.2653203 ,\n",
       "         5.56410027,  5.86288023,  6.16166019,  6.46044016,  6.75922012,\n",
       "         7.05800009]),\n",
       " <BarContainer object of 50 artists>)"
      ]
     },
     "execution_count": 17,
     "metadata": {},
     "output_type": "execute_result"
    },
    {
     "data": {
      "image/png": "[encoded data removed]",
      "text/plain": [
       "<Figure size 640x480 with 1 Axes>"
      ]
     },
     "metadata": {},
     "output_type": "display_data"
    }
   ],
   "source": [
    "plt.hist(data.flatten(),bins = 50)"
   ]
  },
  {
   "cell_type": "markdown",
   "metadata": {},
   "source": [
    "# GEOM-Drugs dataset exploration"
   ]
  },
  {
   "cell_type": "code",
   "execution_count": 1,
   "metadata": {},
   "outputs": [],
   "source": [
    "#read json file\n",
    "import json\n",
    "with open('/home/mila/l/lena-nehale.ezzine/scratch/geomdrugs/rdkit_folder/summary_drugs.json') as json_file:\n",
    "\n",
    "    summary_drugs = json.load(json_file)"
   ]
  },
  {
   "cell_type": "code",
   "execution_count": 2,
   "metadata": {},
   "outputs": [],
   "source": [
    "import pickle\n",
    "#load pickle file\n",
    "with open('/home/mila/l/lena-nehale.ezzine/scratch/geomdrugs/rdkit_folder/drugs/CC12CCC(c3c(C(=O)O)nn(-c4ccc(F)cc4)c31)C2(C)C.pickle', 'rb') as f:\n",
    "    drug = pickle.load(f) "
   ]
  },
  {
   "cell_type": "code",
   "execution_count": 3,
   "metadata": {},
   "outputs": [],
   "source": [
    "coords = []\n",
    "for i in range(len(drug['conformers'])):\n",
    "    x = drug['conformers'][i]['rd_mol'].GetConformer().GetPositions()\n",
    "    coords.append(x)"
   ]
  },
  {
   "cell_type": "code",
   "execution_count": 4,
   "metadata": {},
   "outputs": [],
   "source": [
    "import numpy as np\n",
    "import periodictable\n",
    "\n",
    "atoms = np.array([atom.GetSymbol() for atom in drug['conformers'][0]['rd_mol'].GetAtoms()])\n",
    "atom_ids = [getattr(periodictable, symbol).number for symbol in atoms]"
   ]
  },
  {
   "cell_type": "code",
   "execution_count": 5,
   "metadata": {},
   "outputs": [
    {
     "name": "stderr",
     "output_type": "stream",
     "text": [
      "/tmp/ipykernel_2742661/1561331270.py:5: UserWarning: Creating a tensor from a list of numpy.ndarrays is extremely slow. Please consider converting the list to a single numpy.ndarray with numpy.array() before converting to a tensor. (Triggered internally at ../torch/csrc/utils/tensor_new.cpp:275.)\n",
      "  coords = torch.Tensor(coords).to(device).requires_grad_(True)\n"
     ]
    }
   ],
   "source": [
    "import numpy as np\n",
    "import pickle\n",
    "import torch\n",
    "device = torch.device('cuda' if torch.cuda.is_available() else 'cpu')\n",
    "coords = torch.Tensor(coords).to(device).requires_grad_(True)\n",
    "atom_ids = torch.Tensor(atom_ids).to(device).long().unsqueeze(0)"
   ]
  },
  {
   "cell_type": "code",
   "execution_count": 6,
   "metadata": {},
   "outputs": [
    {
     "data": {
      "text/plain": [
       "(array([ 2.,  0.,  0.,  0.,  0.,  4.,  2.,  8., 12.,  8.,  6., 10., 22.,\n",
       "        16.,  6., 22., 14., 38., 36., 18.,  6., 24., 28., 36., 56., 48.,\n",
       "        38., 24., 32., 12., 34., 16., 36., 10., 20., 14., 22., 20.,  8.,\n",
       "         6.,  6., 14., 10.,  0.,  8.,  0.,  0.,  0.,  0.,  4.]),\n",
       " array([-5.91295815, -5.67699671, -5.44103479, -5.20507336, -4.96911144,\n",
       "        -4.73315001, -4.49718857, -4.26122665, -4.02526522, -3.78930354,\n",
       "        -3.55334187, -3.31738019, -3.08141851, -2.84545708, -2.6094954 ,\n",
       "        -2.37353373, -2.13757205, -1.90161049, -1.66564882, -1.42968726,\n",
       "        -1.19372559, -0.95776397, -0.72180235, -0.48584071, -0.24987908,\n",
       "        -0.01391745,  0.22204418,  0.45800582,  0.69396746,  0.92992908,\n",
       "         1.16589069,  1.40185237,  1.63781393,  1.8737756 ,  2.10973716,\n",
       "         2.34569883,  2.58166051,  2.81762218,  3.05358362,  3.2895453 ,\n",
       "         3.52550697,  3.76146865,  3.99743032,  4.23339176,  4.46935368,\n",
       "         4.70531511,  4.94127655,  5.17723846,  5.4131999 ,  5.64916182,\n",
       "         5.88512325]),\n",
       " <BarContainer object of 50 artists>)"
      ]
     },
     "execution_count": 6,
     "metadata": {},
     "output_type": "execute_result"
    },
    {
     "data": {
      "image/png": "[encoded data removed]",
      "text/plain": [
       "<Figure size 640x480 with 1 Axes>"
      ]
     },
     "metadata": {},
     "output_type": "display_data"
    }
   ],
   "source": [
    "import matplotlib.pyplot as plt\n",
    "plt.hist(coords.flatten().detach().cpu(), bins=50)"
   ]
  },
  {
   "cell_type": "code",
   "execution_count": 7,
   "metadata": {},
   "outputs": [
    {
     "name": "stderr",
     "output_type": "stream",
     "text": [
      "/home/mila/l/lena-nehale.ezzine/Amgen/DEM_fork/y/envs/dem/lib/python3.10/site-packages/torchani/aev.py:16: UserWarning: cuaev not installed\n",
      "  warnings.warn(\"cuaev not installed\")\n",
      "/home/mila/l/lena-nehale.ezzine/Amgen/DEM_fork/y/envs/dem/lib/python3.10/site-packages/torchani/__init__.py:55: UserWarning: Dependency not satisfied, torchani.ase will not be available\n",
      "  warnings.warn(\"Dependency not satisfied, torchani.ase will not be available\")\n"
     ]
    },
    {
     "name": "stdout",
     "output_type": "stream",
     "text": [
      "/home/mila/l/lena-nehale.ezzine/Amgen/DEM_fork/y/envs/dem/lib/python3.10/site-packages/torchani/resources/\n"
     ]
    }
   ],
   "source": [
    "import torchani\n",
    "model = torchani.models.ANI2x(periodic_table_index=True).to(device)"
   ]
  },
  {
   "cell_type": "code",
   "execution_count": 8,
   "metadata": {},
   "outputs": [
    {
     "data": {
      "text/plain": [
       "tensor([-1056.8765, -1056.8742, -1056.8765, -1056.8742, -1056.8631, -1056.8631],\n",
       "       device='cuda:0', dtype=torch.float64, grad_fn=<AddBackward0>)"
      ]
     },
     "execution_count": 8,
     "metadata": {},
     "output_type": "execute_result"
    }
   ],
   "source": [
    "model((atom_ids.repeat(len(coords),1), coords)).energies"
   ]
  },
  {
   "cell_type": "code",
   "execution_count": 9,
   "metadata": {},
   "outputs": [
    {
     "data": {
      "text/plain": [
       "tensor([-1047.4807, -1048.9402, -1046.9930, -1044.3501, -1048.8764, -1052.4616],\n",
       "       device='cuda:0', dtype=torch.float64, grad_fn=<AddBackward0>)"
      ]
     },
     "execution_count": 9,
     "metadata": {},
     "output_type": "execute_result"
    }
   ],
   "source": [
    "model((atom_ids.repeat(len(coords),1), 5*torch.rand_like(coords))).energies"
   ]
  },
  {
   "cell_type": "code",
   "execution_count": 10,
   "metadata": {},
   "outputs": [
    {
     "data": {
      "text/plain": [
       "torch.Size([6, 42, 3])"
      ]
     },
     "execution_count": 10,
     "metadata": {},
     "output_type": "execute_result"
    }
   ],
   "source": [
    "coords.shape"
   ]
  },
  {
   "cell_type": "code",
   "execution_count": null,
   "metadata": {},
   "outputs": [],
   "source": []
  },
  {
   "cell_type": "markdown",
   "metadata": {},
   "source": []
  }
 ],
 "metadata": {
  "kernelspec": {
   "display_name": "base",
   "language": "python",
   "name": "python3"
  },
  "language_info": {
   "codemirror_mode": {
    "name": "ipython",
    "version": 3
   },
   "file_extension": ".py",
   "mimetype": "text/x-python",
   "name": "python",
   "nbconvert_exporter": "python",
   "pygments_lexer": "ipython3",
   "version": "3.10.14"
  }
 },
 "nbformat": 4,
 "nbformat_minor": 2
}
