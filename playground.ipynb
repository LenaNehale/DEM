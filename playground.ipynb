{
 "cells": [
  {
   "cell_type": "code",
   "execution_count": 1,
   "metadata": {},
   "outputs": [],
   "source": [
    "from dem.energies.tblite_energy import TBLiteEnergy\n",
    "import numpy as np\n",
    "import pickle\n",
    "import torch \n",
    "from dem.energies.base_energy_function import BaseEnergyFunction\n",
    "from dem.energies.lennardjones_energy import LennardJonesEnergy \n",
    "from dem.models.components.clipper import Clipper\n",
    "from dem.models.components.noise_schedules import BaseNoiseSchedule, GeometricNoiseSchedule\n",
    "from dem.models.components.score_estimator import get_logreward_noised_samples"
   ]
  },
  {
   "cell_type": "code",
   "execution_count": 5,
   "metadata": {},
   "outputs": [],
   "source": [
    "energy_function = TBLiteEnergy(dimensionality = 3*69, n_particles = 69, is_molecule=True, data_path ='/home/mila/l/lena-nehale.ezzine/Amgen/DEM/data/TIfV_val.npy',   data_path_train='/home/mila/l/lena-nehale.ezzine/Amgen/DEM/data/TIfV_train.npy', data_path_val='/home/mila/l/lena-nehale.ezzine/Amgen/DEM/data/TIfV_val.npy', T=0.1)"
   ]
  },
  {
   "cell_type": "code",
   "execution_count": 6,
   "metadata": {},
   "outputs": [],
   "source": [
    "coords = torch.tensor(np.load('/home/mila/l/lena-nehale.ezzine/Amgen/DEM/data/TIfV_val.npy'), dtype=torch.float32)\n",
    "atom_ids = pickle.load(open('/home/mila/l/lena-nehale.ezzine/Amgen/DEM/data/atom_ids.pkl', 'rb'))"
   ]
  },
  {
   "cell_type": "code",
   "execution_count": 9,
   "metadata": {},
   "outputs": [
    {
     "name": "stdout",
     "output_type": "stream",
     "text": [
      "------------------------------------------------------------\n",
      "  cycle        total energy    energy error   density error\n",
      "------------------------------------------------------------\n",
      "      1      11696.82296596   6.3654270E+03   2.1577181E+00\n",
      "      2      11694.84449147  -1.9784745E+00   1.2755375E+00\n",
      "      3      11693.83864785  -1.0058436E+00   9.1754637E-02\n",
      "      4      11693.75435246  -8.4295385E-02   5.3377027E-02\n",
      "      5      11693.85161613   9.7263673E-02   3.9444354E-02\n",
      "      6      11693.68669610  -1.6492004E-01   2.1767680E-02\n",
      "      7      11693.65849108  -2.8205019E-02   1.5797328E-02\n",
      "      8      11693.65527664  -3.2144329E-03   1.3629944E-02\n",
      "------------------------------------------------------------\n",
      "\n",
      " total:                                   1.623 sec\n",
      "log rew -116936.5527664498\n"
     ]
    },
    {
     "data": {
      "text/plain": [
       "tensor(-116936.5547)"
      ]
     },
     "execution_count": 9,
     "metadata": {},
     "output_type": "execute_result"
    }
   ],
   "source": [
    "energy_function(torch.rand(69,3))"
   ]
  },
  {
   "cell_type": "code",
   "execution_count": 4,
   "metadata": {},
   "outputs": [
    {
     "data": {
      "text/plain": [
       "torch.Size([283, 2346])"
      ]
     },
     "execution_count": 4,
     "metadata": {},
     "output_type": "execute_result"
    }
   ],
   "source": [
    "energy_function.interatomic_dist(coords).shape"
   ]
  },
  {
   "cell_type": "code",
   "execution_count": 7,
   "metadata": {},
   "outputs": [
    {
     "name": "stdout",
     "output_type": "stream",
     "text": [
      "------------------------------------------------------------\n",
      "  cycle        total energy    energy error   density error\n",
      "------------------------------------------------------------\n",
      "      1     -101.2379595160  -1.0254221E+02   1.6242103E-01\n",
      "      2     -101.8354361927  -5.9747668E-01   6.4933516E-02\n",
      "      3     -101.8713076978  -3.5871505E-02   3.7344083E-02\n",
      "      4     -101.8826051226  -1.1297425E-02   1.0278015E-02\n",
      "      5     -101.8844306159  -1.8254933E-03   4.4548929E-03\n",
      "------------------------------------------------------------\n",
      "\n",
      " total:                                   2.213 sec\n",
      "log rew 101.88443061590056\n",
      "------------------------------------------------------------\n",
      "  cycle        total energy    energy error   density error\n",
      "------------------------------------------------------------\n",
      "      1     -101.2374035518  -1.0254175E+02   1.6240706E-01\n",
      "      2     -101.8352837297  -5.9788018E-01   6.4946729E-02\n",
      "      3     -101.8712113826  -3.5927653E-02   3.7351489E-02\n",
      "      4     -101.8825238407  -1.1312458E-02   1.0288595E-02\n",
      "      5     -101.8843541044  -1.8302637E-03   4.4598258E-03\n",
      "------------------------------------------------------------\n",
      "\n",
      " total:                                   1.781 sec\n",
      "log rew 101.88435410437587\n"
     ]
    },
    {
     "data": {
      "text/plain": [
       "torch.Size([1, 1, 2])"
      ]
     },
     "execution_count": 7,
     "metadata": {},
     "output_type": "execute_result"
    }
   ],
   "source": [
    "grads = energy_function(coords[:2].unsqueeze(0).unsqueeze(0))\n",
    "grads.shape"
   ]
  },
  {
   "cell_type": "code",
   "execution_count": 10,
   "metadata": {},
   "outputs": [
    {
     "name": "stdout",
     "output_type": "stream",
     "text": [
      "------------------------------------------------------------\n",
      "  cycle        total energy    energy error   density error\n",
      "------------------------------------------------------------\n",
      "      1     -101.2379595160  -1.0254221E+02   1.6242103E-01\n",
      "      2     -101.8354361927  -5.9747668E-01   6.4933516E-02\n",
      "      3     -101.8713076978  -3.5871505E-02   3.7344083E-02\n",
      "      4     -101.8826051226  -1.1297425E-02   1.0278015E-02\n",
      "      5     -101.8844306159  -1.8254933E-03   4.4548929E-03\n",
      "      6     -101.8848423873  -4.1177144E-04   1.6148188E-03\n",
      "      7     -101.8848654878  -2.3100480E-05   6.8722718E-04\n",
      "      8     -101.8848755082  -1.0020362E-05   3.6223155E-04\n",
      "      9     -101.8848774218  -1.9136250E-06   8.8704758E-05\n",
      "------------------------------------------------------------\n",
      "\n",
      " total:                                   2.065 sec\n",
      "tensor([101.8849]) torch.Size([1])\n",
      "------------------------------------------------------------\n",
      "  cycle        total energy    energy error   density error\n",
      "------------------------------------------------------------\n",
      "      1     -101.2379595160  -1.0254221E+02   1.6242103E-01\n",
      "      2     -101.8354361927  -5.9747668E-01   6.4933516E-02\n",
      "      3     -101.8713076978  -3.5871505E-02   3.7344083E-02\n",
      "      4     -101.8826051226  -1.1297425E-02   1.0278015E-02\n",
      "      5     -101.8844306159  -1.8254933E-03   4.4548929E-03\n",
      "      6     -101.8848423873  -4.1177144E-04   1.6148188E-03\n",
      "      7     -101.8848654878  -2.3100480E-05   6.8722718E-04\n",
      "      8     -101.8848755082  -1.0020362E-05   3.6223155E-04\n",
      "      9     -101.8848774218  -1.9136250E-06   8.8704758E-05\n",
      "------------------------------------------------------------\n",
      "\n",
      " total:                                   1.743 sec\n",
      "------------------------------------------------------------\n",
      "  cycle        total energy    energy error   density error\n",
      "------------------------------------------------------------\n",
      "      1     -101.2577636404  -1.0257640E+02   1.6197856E-01\n",
      "      2     -101.8373928307  -5.7962919E-01   6.4778564E-02\n",
      "      3     -101.8714676221  -3.4074791E-02   3.6876859E-02\n",
      "      4     -101.8823010101  -1.0833388E-02   9.8752127E-03\n",
      "      5     -101.8838813255  -1.5803154E-03   4.2756022E-03\n",
      "      6     -101.8842173839  -3.3605834E-04   1.5305336E-03\n",
      "      7     -101.8842423420  -2.4958093E-05   6.7786571E-04\n",
      "      8     -101.8842522981  -9.9561782E-06   3.4334267E-04\n",
      "      9     -101.8842538142  -1.5161058E-06   8.6529891E-05\n",
      "------------------------------------------------------------\n",
      "\n",
      " total:                                   1.952 sec\n",
      "tensor([101.8843]) torch.Size([1])\n"
     ]
    },
    {
     "data": {
      "text/plain": [
       "(tensor(101.8849), tensor(101.8843))"
      ]
     },
     "execution_count": 10,
     "metadata": {},
     "output_type": "execute_result"
    }
   ],
   "source": [
    "e0 = energy_function(coords[0])\n",
    "grads = energy_function.get_gradient(coords[0])\n",
    "e1 = energy_function(coords[0] + 1e0 * grads)\n",
    "e0, e1"
   ]
  },
  {
   "cell_type": "code",
   "execution_count": 5,
   "metadata": {},
   "outputs": [],
   "source": [
    "\n",
    "energy_function = LennardJonesEnergy(dimensionality = 39,\n",
    "        n_particles = 13,\n",
    "        data_path = 'data/test_split_LJ13-1000.npy',\n",
    "        data_path_train = \"data/train_split_LJ13-1000.npy\",\n",
    "        data_path_val =  \"data/test_split_LJ13-1000.npy\")\n",
    "\n",
    "noise_schedule = GeometricNoiseSchedule(sigma_min=0.01, sigma_max=2)\n",
    "num_mc_samples = 10\n",
    "clipper = Clipper(should_clip_scores=True,\n",
    "                should_clip_log_rewards= False,\n",
    "                max_score_norm= 20,\n",
    "                min_log_reward= None)"
   ]
  },
  {
   "cell_type": "code",
   "execution_count": 6,
   "metadata": {},
   "outputs": [],
   "source": [
    "bs = 5\n",
    "t = torch.Tensor([bs])\n",
    "x = torch.rand(bs,39)\n"
   ]
  },
  {
   "cell_type": "code",
   "execution_count": 72,
   "metadata": {},
   "outputs": [],
   "source": [
    "samples, log_rewards = get_logreward_noised_samples(t, x, energy_function, noise_schedule, num_mc_samples, clipper)"
   ]
  },
  {
   "cell_type": "code",
   "execution_count": 73,
   "metadata": {},
   "outputs": [
    {
     "data": {
      "text/plain": [
       "(torch.Size([10, 5, 39]), torch.Size([10, 1, 5]))"
      ]
     },
     "execution_count": 73,
     "metadata": {},
     "output_type": "execute_result"
    }
   ],
   "source": [
    "samples.shape, log_rewards.shape"
   ]
  },
  {
   "cell_type": "code",
   "execution_count": 27,
   "metadata": {},
   "outputs": [],
   "source": [
    "weights = torch.softmax(log_rewards, dim=-1).unsqueeze(-1)"
   ]
  },
  {
   "cell_type": "code",
   "execution_count": 32,
   "metadata": {},
   "outputs": [
    {
     "data": {
      "text/plain": [
       "(tensor([[-7.0318e+01],\n",
       "         [-6.5862e+01],\n",
       "         [-3.2641e+04],\n",
       "         [-3.0963e+02],\n",
       "         [-9.7251e+01],\n",
       "         [-6.8172e+01],\n",
       "         [-6.4121e+01],\n",
       "         [-2.0791e+07],\n",
       "         [-4.7405e+05],\n",
       "         [-7.2687e+01]]),\n",
       " tensor([[1.7046e-03],\n",
       "         [1.4672e-01],\n",
       "         [0.0000e+00],\n",
       "         [0.0000e+00],\n",
       "         [3.4255e-15],\n",
       "         [1.4573e-02],\n",
       "         [8.3685e-01],\n",
       "         [0.0000e+00],\n",
       "         [0.0000e+00],\n",
       "         [1.5948e-04]]))"
      ]
     },
     "execution_count": 32,
     "metadata": {},
     "output_type": "execute_result"
    }
   ],
   "source": [
    "log_rewards, torch.exp(log_rewards)/torch.sum(torch.exp(log_rewards))"
   ]
  },
  {
   "cell_type": "code",
   "execution_count": 35,
   "metadata": {},
   "outputs": [
    {
     "data": {
      "text/plain": [
       "tensor([[1.7046e-03],\n",
       "        [1.4672e-01],\n",
       "        [0.0000e+00],\n",
       "        [0.0000e+00],\n",
       "        [3.4248e-15],\n",
       "        [1.4573e-02],\n",
       "        [8.3685e-01],\n",
       "        [0.0000e+00],\n",
       "        [0.0000e+00],\n",
       "        [1.5948e-04]])"
      ]
     },
     "execution_count": 35,
     "metadata": {},
     "output_type": "execute_result"
    }
   ],
   "source": [
    "torch.softmax(log_rewards, dim=0)"
   ]
  },
  {
   "cell_type": "code",
   "execution_count": 3,
   "metadata": {},
   "outputs": [],
   "source": [
    "def f(x):\n",
    "    return x\n",
    "\n",
    "gradf = torch.func.grad(f)"
   ]
  },
  {
   "cell_type": "code",
   "execution_count": 6,
   "metadata": {},
   "outputs": [
    {
     "data": {
      "text/plain": [
       "tensor(1.)"
      ]
     },
     "execution_count": 6,
     "metadata": {},
     "output_type": "execute_result"
    }
   ],
   "source": [
    "gradf(torch.tensor(1.0))"
   ]
  },
  {
   "cell_type": "markdown",
   "metadata": {},
   "source": [
    "###  Make datasets for cyclic peptides idem"
   ]
  },
  {
   "cell_type": "code",
   "execution_count": 1,
   "metadata": {},
   "outputs": [
    {
     "data": {
      "text/plain": [
       "(10000, 39)"
      ]
     },
     "execution_count": 1,
     "metadata": {},
     "output_type": "execute_result"
    }
   ],
   "source": [
    "import numpy as np\n",
    "\n",
    "data = np.load('data/test_split_LJ13-1000.npy')\n",
    "data.shape"
   ]
  },
  {
   "cell_type": "code",
   "execution_count": 4,
   "metadata": {},
   "outputs": [],
   "source": [
    "from Bio import PDB\n",
    "import numpy as np\n",
    "import periodictable\n",
    "\n",
    "def get_atomicnumber(max_Z = 50):\n",
    "    '''Maps the atomic number to the atom elements in the periodic table.'''\n",
    "    atom2atomicnumber = {}\n",
    "    atomicnumber2atom = {}\n",
    "    for atomicnumber in range(max_Z):\n",
    "        element = periodictable.elements[atomicnumber + 1] \n",
    "        atom2atomicnumber[element.symbol] = atomicnumber + 1\n",
    "        atomicnumber2atom[atomicnumber + 1] = element.symbol\n",
    "    return atom2atomicnumber, atomicnumber2atom\n",
    "\n",
    "\n",
    "def extract_column_from_pdb(pdb_path, start, end):\n",
    "    column_data = []\n",
    "    with open(pdb_path, 'r') as pdb_file:\n",
    "        for line in pdb_file:\n",
    "            if line.startswith('ENDMDL'):\n",
    "                break\n",
    "            if line.startswith('ATOM'):\n",
    "                column_value = line[start:end].strip() \n",
    "                column_data.append(column_value)\n",
    "    return column_data\n",
    "\n",
    "def get_coord(model):\n",
    "    '''Extracts the coordinates of the atoms in the model.'''\n",
    "    coords = []\n",
    "    for chain in model:\n",
    "        for residue in chain:\n",
    "            for atom in residue:\n",
    "                x,y,z = atom.get_coord()\n",
    "                coords.append([x,y,z])\n",
    "    return np.array(coords).flatten()\n",
    "\n",
    "\n",
    "def get_models_atoms(pdb_path ):\n",
    "    '''Extracts the models and atom ids from the pdb file.'''\n",
    "    atom2atomicnumber, _ = get_atomicnumber()\n",
    "    parser = PDB.PDBParser()\n",
    "    io = PDB.PDBIO()\n",
    "    struct = parser.get_structure('structure_id',f'{pdb_path}')\n",
    "    atom_names = []\n",
    "    models = list(struct.get_models())\n",
    "    atom_names = extract_column_from_pdb(f'{pdb_path}', 77, 78)\n",
    "    atom_ids = np.array([atom2atomicnumber[x] for x in atom_names ])\n",
    "    return models, atom_ids\n",
    "\n",
    "def get_coords(pdb_path):\n",
    "    models, atom_ids = get_models_atoms(pdb_path)\n",
    "    coords = []\n",
    "    for model in models:\n",
    "        coords.append(get_coord(model))\n",
    "    return np.array(coords)\n"
   ]
  },
  {
   "cell_type": "code",
   "execution_count": 5,
   "metadata": {},
   "outputs": [
    {
     "data": {
      "text/plain": [
       "(283, 207)"
      ]
     },
     "execution_count": 5,
     "metadata": {},
     "output_type": "execute_result"
    }
   ],
   "source": [
    "pdb_path = '/home/mila/l/lena-nehale.ezzine/Amgen/DEM/data/T.I.f.V.pdb'\n",
    "coords = get_coords(pdb_path)\n",
    "coords.shape"
   ]
  },
  {
   "cell_type": "code",
   "execution_count": 6,
   "metadata": {},
   "outputs": [],
   "source": [
    "coords_train, coords_val = np.array([]), coords\n",
    "np.save('/home/mila/l/lena-nehale.ezzine/Amgen/DEM/data/TIfV_train.npy', coords_train)\n",
    "np.save('/home/mila/l/lena-nehale.ezzine/Amgen/DEM/data/TIfV_val.npy', coords_val)\n"
   ]
  },
  {
   "cell_type": "code",
   "execution_count": null,
   "metadata": {},
   "outputs": [],
   "source": []
  }
 ],
 "metadata": {
  "kernelspec": {
   "display_name": "base",
   "language": "python",
   "name": "python3"
  },
  "language_info": {
   "codemirror_mode": {
    "name": "ipython",
    "version": 3
   },
   "file_extension": ".py",
   "mimetype": "text/x-python",
   "name": "python",
   "nbconvert_exporter": "python",
   "pygments_lexer": "ipython3",
   "version": "3.10.14"
  }
 },
 "nbformat": 4,
 "nbformat_minor": 2
}
