{
 "cells": [
  {
   "cell_type": "code",
   "execution_count": 1,
   "metadata": {},
   "outputs": [],
   "source": [
    "from dem.energies.tblite_energy import TBLiteEnergy\n",
    "import numpy as np\n",
    "import pickle\n",
    "import torch \n",
    "from dem.energies.base_energy_function import BaseEnergyFunction\n",
    "from dem.energies.lennardjones_energy import LennardJonesEnergy \n",
    "from dem.models.components.clipper import Clipper\n",
    "from dem.models.components.noise_schedules import BaseNoiseSchedule, GeometricNoiseSchedule\n",
    "from dem.models.components.score_estimator import get_logreward_noised_samples"
   ]
  },
  {
   "cell_type": "markdown",
   "metadata": {},
   "source": [
    "#  Make dataset for cyclic peptides idem"
   ]
  },
  {
   "cell_type": "code",
   "execution_count": 1,
   "metadata": {},
   "outputs": [
    {
     "data": {
      "text/plain": [
       "(10000, 39)"
      ]
     },
     "execution_count": 1,
     "metadata": {},
     "output_type": "execute_result"
    }
   ],
   "source": [
    "import numpy as np\n",
    "\n",
    "data = np.load('data/test_split_LJ13-1000.npy')\n",
    "data.shape"
   ]
  },
  {
   "cell_type": "code",
   "execution_count": 4,
   "metadata": {},
   "outputs": [],
   "source": [
    "from Bio import PDB\n",
    "import numpy as np\n",
    "import periodictable\n",
    "\n",
    "def get_atomicnumber(max_Z = 50):\n",
    "    '''Maps the atomic number to the atom elements in the periodic table.'''\n",
    "    atom2atomicnumber = {}\n",
    "    atomicnumber2atom = {}\n",
    "    for atomicnumber in range(max_Z):\n",
    "        element = periodictable.elements[atomicnumber + 1] \n",
    "        atom2atomicnumber[element.symbol] = atomicnumber + 1\n",
    "        atomicnumber2atom[atomicnumber + 1] = element.symbol\n",
    "    return atom2atomicnumber, atomicnumber2atom\n",
    "\n",
    "\n",
    "def extract_column_from_pdb(pdb_path, start, end):\n",
    "    column_data = []\n",
    "    with open(pdb_path, 'r') as pdb_file:\n",
    "        for line in pdb_file:\n",
    "            if line.startswith('ENDMDL'):\n",
    "                break\n",
    "            if line.startswith('ATOM'):\n",
    "                column_value = line[start:end].strip() \n",
    "                column_data.append(column_value)\n",
    "    return column_data\n",
    "\n",
    "def get_coord(model):\n",
    "    '''Extracts the coordinates of the atoms in the model.'''\n",
    "    coords = []\n",
    "    for chain in model:\n",
    "        for residue in chain:\n",
    "            for atom in residue:\n",
    "                x,y,z = atom.get_coord()\n",
    "                coords.append([x,y,z])\n",
    "    return np.array(coords).flatten()\n",
    "\n",
    "\n",
    "def get_models_atoms(pdb_path ):\n",
    "    '''Extracts the models and atom ids from the pdb file.'''\n",
    "    atom2atomicnumber, _ = get_atomicnumber()\n",
    "    parser = PDB.PDBParser()\n",
    "    io = PDB.PDBIO()\n",
    "    struct = parser.get_structure('structure_id',f'{pdb_path}')\n",
    "    atom_names = []\n",
    "    models = list(struct.get_models())\n",
    "    atom_names = extract_column_from_pdb(f'{pdb_path}', 77, 78)\n",
    "    atom_ids = np.array([atom2atomicnumber[x] for x in atom_names ])\n",
    "    return models, atom_ids\n",
    "\n",
    "def get_coords(pdb_path):\n",
    "    models, atom_ids = get_models_atoms(pdb_path)\n",
    "    coords = []\n",
    "    for model in models:\n",
    "        coords.append(get_coord(model))\n",
    "    return np.array(coords)\n"
   ]
  },
  {
   "cell_type": "code",
   "execution_count": 5,
   "metadata": {},
   "outputs": [
    {
     "data": {
      "text/plain": [
       "(283, 207)"
      ]
     },
     "execution_count": 5,
     "metadata": {},
     "output_type": "execute_result"
    }
   ],
   "source": [
    "pdb_path = '/home/mila/l/lena-nehale.ezzine/Amgen/DEM/data/T.I.f.V.pdb'\n",
    "coords = get_coords(pdb_path)\n",
    "coords.shape"
   ]
  },
  {
   "cell_type": "code",
   "execution_count": 6,
   "metadata": {},
   "outputs": [],
   "source": [
    "coords_train, coords_val = np.array([]), coords\n",
    "np.save('/home/mila/l/lena-nehale.ezzine/Amgen/DEM/data/TIfV_train.npy', coords_train)\n",
    "np.save('/home/mila/l/lena-nehale.ezzine/Amgen/DEM/data/TIfV_val.npy', coords_val)\n"
   ]
  },
  {
   "cell_type": "markdown",
   "metadata": {},
   "source": [
    "# TorchANI on a cyclic peptide"
   ]
  },
  {
   "cell_type": "code",
   "execution_count": 25,
   "metadata": {},
   "outputs": [
    {
     "name": "stdout",
     "output_type": "stream",
     "text": [
      "/home/mila/l/lena-nehale.ezzine/Amgen/DEM_fork/y/envs/dem/lib/python3.10/site-packages/torchani/resources/\n"
     ]
    }
   ],
   "source": [
    "import numpy as np\n",
    "import pickle\n",
    "import torch\n",
    "from dem.energies.torchani_energy import *\n",
    "\n",
    "device = torch.device('cuda' if torch.cuda.is_available() else 'cpu')\n",
    "coords = torch.tensor(np.load('/home/mila/l/lena-nehale.ezzine/Amgen/DEM_fork/data/TIfV_val.npy'), dtype=torch.float32).to(device).view(-1,69,3).requires_grad_(True)\n",
    "atom_ids = torch.Tensor(pickle.load(open('/home/mila/l/lena-nehale.ezzine/Amgen/DEM_fork/data/atom_ids.pkl', 'rb'))).to(device).long().unsqueeze(0)\n",
    "energy_function = TorchaniEnergy(dimensionality = 3*69, n_particles = 69, is_molecule=True, data_path ='/home/mila/l/lena-nehale.ezzine/Amgen/DEM_fork/data/TIfV_val.npy',   data_path_train='/home/mila/l/lena-nehale.ezzine/Amgen/DEM_fork/data/TIfV_train.npy', data_path_val='/home/mila/l/lena-nehale.ezzine/Amgen/DEM_fork/data/TIfV_val.npy', T=0.1, device= device)"
   ]
  },
  {
   "cell_type": "markdown",
   "metadata": {},
   "source": [
    "Let's compare the torchANI-energy distribution for conformations optimized using GFN2xtb, vs random conformations. If they are the same, torchANI is not a good proxy for GFN2xtb."
   ]
  },
  {
   "cell_type": "code",
   "execution_count": 30,
   "metadata": {},
   "outputs": [],
   "source": [
    "test_data_logrews =  - energy_function(coords)\n",
    "rand_coords = 3*torch.randn_like(coords)\n",
    "random_data_logrews =  - energy_function(rand_coords)"
   ]
  },
  {
   "cell_type": "code",
   "execution_count": 31,
   "metadata": {},
   "outputs": [
    {
     "name": "stderr",
     "output_type": "stream",
     "text": [
      "/tmp/ipykernel_972023/2685235816.py:8: UserWarning: set_ticklabels() should only be used with a fixed number of ticks, i.e. after set_ticks() or using a FixedLocator.\n",
      "  ax.set_xticklabels([x for x in dict_data.keys() ])\n"
     ]
    },
    {
     "data": {
      "image/png": "[encoded data removed]",
      "text/plain": [
       "<Figure size 1000x700 with 1 Axes>"
      ]
     },
     "metadata": {},
     "output_type": "display_data"
    }
   ],
   "source": [
    "import matplotlib.pyplot as plt\n",
    "\n",
    "dict_data = {'test_data_logrews': test_data_logrews.detach().cpu() , 'random_data_logrews':  random_data_logrews.detach().cpu()}\n",
    "data = [x for x in dict_data.values()]\n",
    " \n",
    "fig = plt.figure(figsize =(10, 7)) \n",
    "ax = fig.add_axes([0, 0, 1, 1])\n",
    "ax.set_xticklabels([x for x in dict_data.keys() ])\n",
    "ax.set_title('log-reward distribution')\n",
    "# Creating plot\n",
    "bp = ax.boxplot(data)\n",
    "\n",
    "# show plot\n",
    "plt.show()"
   ]
  },
  {
   "cell_type": "code",
   "execution_count": 38,
   "metadata": {},
   "outputs": [
    {
     "data": {
      "image/png": "[encoded data removed]",
      "text/plain": [
       "<Figure size 640x480 with 1 Axes>"
      ]
     },
     "metadata": {},
     "output_type": "display_data"
    }
   ],
   "source": [
    "plt.hist(energy_function.interatomic_dist(coords).flatten().detach().cpu(),bins = 50, label='Coords', alpha=0.5)\n",
    "plt.hist(energy_function.interatomic_dist(rand_coords).flatten().detach().cpu(),bins = 50, label='Rand Coords', alpha=0.5)\n",
    "plt.legend()\n",
    "plt.show()"
   ]
  },
  {
   "cell_type": "code",
   "execution_count": 39,
   "metadata": {},
   "outputs": [],
   "source": [
    "import numpy as np\n",
    "lj13_coords = np.load('/home/mila/l/lena-nehale.ezzine/Amgen/DEM_fork/data/test_split_LJ13-1000.npy')"
   ]
  },
  {
   "cell_type": "code",
   "execution_count": 41,
   "metadata": {},
   "outputs": [],
   "source": [
    "#TODO : fix bug\n",
    "#plt.hist(energy_function.interatomic_dist(lj13_coords).flatten(),bins = 50)"
   ]
  },
  {
   "cell_type": "markdown",
   "metadata": {},
   "source": [
    "# GEOM-Drugs dataset exploration"
   ]
  },
  {
   "cell_type": "code",
   "execution_count": 1,
   "metadata": {},
   "outputs": [
    {
     "name": "stderr",
     "output_type": "stream",
     "text": [
      "/home/mila/l/lena-nehale.ezzine/Amgen/DEM_fork/y/envs/dem/lib/python3.10/site-packages/torchani/aev.py:16: UserWarning: cuaev not installed\n",
      "  warnings.warn(\"cuaev not installed\")\n",
      "/home/mila/l/lena-nehale.ezzine/Amgen/DEM_fork/y/envs/dem/lib/python3.10/site-packages/torchani/__init__.py:55: UserWarning: Dependency not satisfied, torchani.ase will not be available\n",
      "  warnings.warn(\"Dependency not satisfied, torchani.ase will not be available\")\n"
     ]
    }
   ],
   "source": [
    "import numpy as np\n",
    "import pickle\n",
    "import torch\n",
    "import json\n",
    "import torchani\n",
    "import periodictable\n",
    "device = torch.device('cuda' if torch.cuda.is_available() else 'cpu')"
   ]
  },
  {
   "cell_type": "code",
   "execution_count": 2,
   "metadata": {},
   "outputs": [],
   "source": [
    "#read json file\n",
    "with open('/home/mila/l/lena-nehale.ezzine/scratch/geomdrugs/rdkit_folder/summary_qm9.json') as json_file:\n",
    "\n",
    "    summary = json.load(json_file)"
   ]
  },
  {
   "cell_type": "code",
   "execution_count": 3,
   "metadata": {},
   "outputs": [
    {
     "name": "stderr",
     "output_type": "stream",
     "text": [
      "/home/mila/l/lena-nehale.ezzine/Amgen/DEM_fork/y/envs/dem/lib/python3.10/zoneinfo/_tzpath.py:44: InvalidTZPathWarning: Invalid paths specified in PYTHONTZPATH environment variable. Paths should be absolute but found the following relative paths:\n",
      "    y/envs/dem/share/zoneinfo\n",
      "    y/envs/dem/share/tzinfo\n",
      "  warnings.warn(\n"
     ]
    },
    {
     "data": {
      "text/html": [
       "<div>\n",
       "<style scoped>\n",
       "    .dataframe tbody tr th:only-of-type {\n",
       "        vertical-align: middle;\n",
       "    }\n",
       "\n",
       "    .dataframe tbody tr th {\n",
       "        vertical-align: top;\n",
       "    }\n",
       "\n",
       "    .dataframe thead th {\n",
       "        text-align: right;\n",
       "    }\n",
       "</style>\n",
       "<table border=\"1\" class=\"dataframe\">\n",
       "  <thead>\n",
       "    <tr style=\"text-align: right;\">\n",
       "      <th></th>\n",
       "      <th>charge</th>\n",
       "      <th>ensembleenergy</th>\n",
       "      <th>ensembleentropy</th>\n",
       "      <th>ensemblefreeenergy</th>\n",
       "      <th>lowestenergy</th>\n",
       "      <th>pickle_path</th>\n",
       "      <th>poplowestpct</th>\n",
       "      <th>temperature</th>\n",
       "      <th>totalconfs</th>\n",
       "      <th>uniqueconfs</th>\n",
       "    </tr>\n",
       "  </thead>\n",
       "  <tbody>\n",
       "    <tr>\n",
       "      <th>[O]C(=O)[C@H]1C[C@]21CC[NH2]2</th>\n",
       "      <td>0</td>\n",
       "      <td>0.756</td>\n",
       "      <td>10.418</td>\n",
       "      <td>-3.106</td>\n",
       "      <td>-28.41889</td>\n",
       "      <td>qm9/[O]C(=O)[C@H]1C[C@]21CC[NH2]2.pickle</td>\n",
       "      <td>11.333</td>\n",
       "      <td>298.15</td>\n",
       "      <td>2078</td>\n",
       "      <td>1614</td>\n",
       "    </tr>\n",
       "    <tr>\n",
       "      <th>O=C([O])[C@H]1[C@H]2C[C@@H]1[NH2]C2</th>\n",
       "      <td>0</td>\n",
       "      <td>0.98</td>\n",
       "      <td>10.156</td>\n",
       "      <td>-3.028</td>\n",
       "      <td>-28.4571</td>\n",
       "      <td>qm9/O=C([O])[C@H]1[C@H]2C[C@@H]1[NH2]C2.pickle</td>\n",
       "      <td>12.603</td>\n",
       "      <td>298.15</td>\n",
       "      <td>1786</td>\n",
       "      <td>1357</td>\n",
       "    </tr>\n",
       "    <tr>\n",
       "      <th>CCOCCCCCO</th>\n",
       "      <td>0</td>\n",
       "      <td>1.204</td>\n",
       "      <td>10.677</td>\n",
       "      <td>-3.183</td>\n",
       "      <td>-31.275</td>\n",
       "      <td>qm9/CCOCCCCCO.pickle</td>\n",
       "      <td>10.611</td>\n",
       "      <td>298.15</td>\n",
       "      <td>1381</td>\n",
       "      <td>1101</td>\n",
       "    </tr>\n",
       "    <tr>\n",
       "      <th>N#N.[NH][C][N]C=O</th>\n",
       "      <td>0</td>\n",
       "      <td>1.781</td>\n",
       "      <td>13.261</td>\n",
       "      <td>-3.954</td>\n",
       "      <td>-20.94522</td>\n",
       "      <td>qm9/N#N.[NH][C][N]C=O.pickle</td>\n",
       "      <td>5.1</td>\n",
       "      <td>298.15</td>\n",
       "      <td>1447</td>\n",
       "      <td>1088</td>\n",
       "    </tr>\n",
       "    <tr>\n",
       "      <th>OCCCCCCCO</th>\n",
       "      <td>0</td>\n",
       "      <td>1.419</td>\n",
       "      <td>12.241</td>\n",
       "      <td>-3.65</td>\n",
       "      <td>-31.27486</td>\n",
       "      <td>qm9/OCCCCCCCO.pickle</td>\n",
       "      <td>2.311</td>\n",
       "      <td>298.15</td>\n",
       "      <td>1294</td>\n",
       "      <td>1073</td>\n",
       "    </tr>\n",
       "    <tr>\n",
       "      <th>...</th>\n",
       "      <td>...</td>\n",
       "      <td>...</td>\n",
       "      <td>...</td>\n",
       "      <td>...</td>\n",
       "      <td>...</td>\n",
       "      <td>...</td>\n",
       "      <td>...</td>\n",
       "      <td>...</td>\n",
       "      <td>...</td>\n",
       "      <td>...</td>\n",
       "    </tr>\n",
       "    <tr>\n",
       "      <th>C[C@H]1[C@H]2[C@@H]3[C@H]4C=C[C@@]13N24</th>\n",
       "      <td>0</td>\n",
       "      <td>0.0</td>\n",
       "      <td>2.183</td>\n",
       "      <td>-0.651</td>\n",
       "      <td>-24.47926</td>\n",
       "      <td>qm9/C[C@H]1[C@H]2[C@@H]3[C@H]4C=C[C@@]13N24.pi...</td>\n",
       "      <td>100.0</td>\n",
       "      <td>298.15</td>\n",
       "      <td>3</td>\n",
       "      <td>1</td>\n",
       "    </tr>\n",
       "    <tr>\n",
       "      <th>C[C@H]1[C@H]2[C@@H]3[C@H]4CC[C@@]13N24</th>\n",
       "      <td>0</td>\n",
       "      <td>0.0</td>\n",
       "      <td>2.183</td>\n",
       "      <td>-0.651</td>\n",
       "      <td>-25.55615</td>\n",
       "      <td>qm9/C[C@H]1[C@H]2[C@@H]3[C@H]4CC[C@@]13N24.pickle</td>\n",
       "      <td>100.0</td>\n",
       "      <td>298.15</td>\n",
       "      <td>3</td>\n",
       "      <td>1</td>\n",
       "    </tr>\n",
       "    <tr>\n",
       "      <th>C[C@H]1[C@H]2[C@@H]3[C@H]4CC[C@@]13[C@@H]24</th>\n",
       "      <td>0</td>\n",
       "      <td>0.0</td>\n",
       "      <td>2.183</td>\n",
       "      <td>-0.651</td>\n",
       "      <td>-25.29723</td>\n",
       "      <td>qm9/C[C@H]1[C@H]2[C@@H]3[C@H]4CC[C@@]13[C@@H]2...</td>\n",
       "      <td>100.0</td>\n",
       "      <td>298.15</td>\n",
       "      <td>3</td>\n",
       "      <td>1</td>\n",
       "    </tr>\n",
       "    <tr>\n",
       "      <th>n1nnon1</th>\n",
       "      <td>0</td>\n",
       "      <td>0.0</td>\n",
       "      <td>0.0</td>\n",
       "      <td>0.0</td>\n",
       "      <td>-15.60444</td>\n",
       "      <td>qm9/n1nnon1.pickle</td>\n",
       "      <td>100.0</td>\n",
       "      <td>298.15</td>\n",
       "      <td>1</td>\n",
       "      <td>1</td>\n",
       "    </tr>\n",
       "    <tr>\n",
       "      <th>CC[C@H]1[C@H]2C[C@H]2C[C@H]1C</th>\n",
       "      <td>0</td>\n",
       "      <td>NaN</td>\n",
       "      <td>NaN</td>\n",
       "      <td>NaN</td>\n",
       "      <td>NaN</td>\n",
       "      <td>qm9/CC[C@H]1[C@H]2C[C@H]2C[C@H]1C.pickle</td>\n",
       "      <td>NaN</td>\n",
       "      <td>NaN</td>\n",
       "      <td>NaN</td>\n",
       "      <td>NaN</td>\n",
       "    </tr>\n",
       "  </tbody>\n",
       "</table>\n",
       "<p>133258 rows × 10 columns</p>\n",
       "</div>"
      ],
      "text/plain": [
       "                                            charge ensembleenergy  \\\n",
       "[O]C(=O)[C@H]1C[C@]21CC[NH2]2                    0          0.756   \n",
       "O=C([O])[C@H]1[C@H]2C[C@@H]1[NH2]C2              0           0.98   \n",
       "CCOCCCCCO                                        0          1.204   \n",
       "N#N.[NH][C][N]C=O                                0          1.781   \n",
       "OCCCCCCCO                                        0          1.419   \n",
       "...                                            ...            ...   \n",
       "C[C@H]1[C@H]2[C@@H]3[C@H]4C=C[C@@]13N24          0            0.0   \n",
       "C[C@H]1[C@H]2[C@@H]3[C@H]4CC[C@@]13N24           0            0.0   \n",
       "C[C@H]1[C@H]2[C@@H]3[C@H]4CC[C@@]13[C@@H]24      0            0.0   \n",
       "n1nnon1                                          0            0.0   \n",
       "CC[C@H]1[C@H]2C[C@H]2C[C@H]1C                    0            NaN   \n",
       "\n",
       "                                            ensembleentropy  \\\n",
       "[O]C(=O)[C@H]1C[C@]21CC[NH2]2                        10.418   \n",
       "O=C([O])[C@H]1[C@H]2C[C@@H]1[NH2]C2                  10.156   \n",
       "CCOCCCCCO                                            10.677   \n",
       "N#N.[NH][C][N]C=O                                    13.261   \n",
       "OCCCCCCCO                                            12.241   \n",
       "...                                                     ...   \n",
       "C[C@H]1[C@H]2[C@@H]3[C@H]4C=C[C@@]13N24               2.183   \n",
       "C[C@H]1[C@H]2[C@@H]3[C@H]4CC[C@@]13N24                2.183   \n",
       "C[C@H]1[C@H]2[C@@H]3[C@H]4CC[C@@]13[C@@H]24           2.183   \n",
       "n1nnon1                                                 0.0   \n",
       "CC[C@H]1[C@H]2C[C@H]2C[C@H]1C                           NaN   \n",
       "\n",
       "                                            ensemblefreeenergy lowestenergy  \\\n",
       "[O]C(=O)[C@H]1C[C@]21CC[NH2]2                           -3.106    -28.41889   \n",
       "O=C([O])[C@H]1[C@H]2C[C@@H]1[NH2]C2                     -3.028     -28.4571   \n",
       "CCOCCCCCO                                               -3.183      -31.275   \n",
       "N#N.[NH][C][N]C=O                                       -3.954    -20.94522   \n",
       "OCCCCCCCO                                                -3.65    -31.27486   \n",
       "...                                                        ...          ...   \n",
       "C[C@H]1[C@H]2[C@@H]3[C@H]4C=C[C@@]13N24                 -0.651    -24.47926   \n",
       "C[C@H]1[C@H]2[C@@H]3[C@H]4CC[C@@]13N24                  -0.651    -25.55615   \n",
       "C[C@H]1[C@H]2[C@@H]3[C@H]4CC[C@@]13[C@@H]24             -0.651    -25.29723   \n",
       "n1nnon1                                                    0.0    -15.60444   \n",
       "CC[C@H]1[C@H]2C[C@H]2C[C@H]1C                              NaN          NaN   \n",
       "\n",
       "                                                                                   pickle_path  \\\n",
       "[O]C(=O)[C@H]1C[C@]21CC[NH2]2                         qm9/[O]C(=O)[C@H]1C[C@]21CC[NH2]2.pickle   \n",
       "O=C([O])[C@H]1[C@H]2C[C@@H]1[NH2]C2             qm9/O=C([O])[C@H]1[C@H]2C[C@@H]1[NH2]C2.pickle   \n",
       "CCOCCCCCO                                                                 qm9/CCOCCCCCO.pickle   \n",
       "N#N.[NH][C][N]C=O                                                 qm9/N#N.[NH][C][N]C=O.pickle   \n",
       "OCCCCCCCO                                                                 qm9/OCCCCCCCO.pickle   \n",
       "...                                                                                        ...   \n",
       "C[C@H]1[C@H]2[C@@H]3[C@H]4C=C[C@@]13N24      qm9/C[C@H]1[C@H]2[C@@H]3[C@H]4C=C[C@@]13N24.pi...   \n",
       "C[C@H]1[C@H]2[C@@H]3[C@H]4CC[C@@]13N24       qm9/C[C@H]1[C@H]2[C@@H]3[C@H]4CC[C@@]13N24.pickle   \n",
       "C[C@H]1[C@H]2[C@@H]3[C@H]4CC[C@@]13[C@@H]24  qm9/C[C@H]1[C@H]2[C@@H]3[C@H]4CC[C@@]13[C@@H]2...   \n",
       "n1nnon1                                                                     qm9/n1nnon1.pickle   \n",
       "CC[C@H]1[C@H]2C[C@H]2C[C@H]1C                         qm9/CC[C@H]1[C@H]2C[C@H]2C[C@H]1C.pickle   \n",
       "\n",
       "                                            poplowestpct temperature  \\\n",
       "[O]C(=O)[C@H]1C[C@]21CC[NH2]2                     11.333      298.15   \n",
       "O=C([O])[C@H]1[C@H]2C[C@@H]1[NH2]C2               12.603      298.15   \n",
       "CCOCCCCCO                                         10.611      298.15   \n",
       "N#N.[NH][C][N]C=O                                    5.1      298.15   \n",
       "OCCCCCCCO                                          2.311      298.15   \n",
       "...                                                  ...         ...   \n",
       "C[C@H]1[C@H]2[C@@H]3[C@H]4C=C[C@@]13N24            100.0      298.15   \n",
       "C[C@H]1[C@H]2[C@@H]3[C@H]4CC[C@@]13N24             100.0      298.15   \n",
       "C[C@H]1[C@H]2[C@@H]3[C@H]4CC[C@@]13[C@@H]24        100.0      298.15   \n",
       "n1nnon1                                            100.0      298.15   \n",
       "CC[C@H]1[C@H]2C[C@H]2C[C@H]1C                        NaN         NaN   \n",
       "\n",
       "                                            totalconfs uniqueconfs  \n",
       "[O]C(=O)[C@H]1C[C@]21CC[NH2]2                     2078        1614  \n",
       "O=C([O])[C@H]1[C@H]2C[C@@H]1[NH2]C2               1786        1357  \n",
       "CCOCCCCCO                                         1381        1101  \n",
       "N#N.[NH][C][N]C=O                                 1447        1088  \n",
       "OCCCCCCCO                                         1294        1073  \n",
       "...                                                ...         ...  \n",
       "C[C@H]1[C@H]2[C@@H]3[C@H]4C=C[C@@]13N24              3           1  \n",
       "C[C@H]1[C@H]2[C@@H]3[C@H]4CC[C@@]13N24               3           1  \n",
       "C[C@H]1[C@H]2[C@@H]3[C@H]4CC[C@@]13[C@@H]24          3           1  \n",
       "n1nnon1                                              1           1  \n",
       "CC[C@H]1[C@H]2C[C@H]2C[C@H]1C                      NaN         NaN  \n",
       "\n",
       "[133258 rows x 10 columns]"
      ]
     },
     "execution_count": 3,
     "metadata": {},
     "output_type": "execute_result"
    }
   ],
   "source": [
    "import pandas as pd \n",
    "pd.DataFrame(summary).T.sort_values(by='uniqueconfs', ascending=False)"
   ]
  },
  {
   "cell_type": "code",
   "execution_count": 15,
   "metadata": {},
   "outputs": [],
   "source": [
    "import pickle\n",
    "#load pickle file\n",
    "smiles = 'CCOCCCCCO'\n",
    "with open(f'/home/mila/l/lena-nehale.ezzine/scratch/geomdrugs/rdkit_folder/qm9/{smiles}.pickle', 'rb') as f:\n",
    "    mol = pickle.load(f) "
   ]
  },
  {
   "cell_type": "code",
   "execution_count": 23,
   "metadata": {},
   "outputs": [
    {
     "data": {
      "image/png": "[encoded data removed]",
      "text/plain": [
       "<rdkit.Chem.rdchem.Mol at 0x7ff45c4de0c0>"
      ]
     },
     "execution_count": 23,
     "metadata": {},
     "output_type": "execute_result"
    }
   ],
   "source": [
    "mol['conformers'][1000]['rd_mol']"
   ]
  },
  {
   "cell_type": "code",
   "execution_count": 18,
   "metadata": {},
   "outputs": [
    {
     "data": {
      "text/plain": [
       "{'charge': 0,\n",
       " 'ensembleenergy': 1.204,\n",
       " 'ensembleentropy': 10.677,\n",
       " 'ensemblefreeenergy': -3.183,\n",
       " 'lowestenergy': -31.275,\n",
       " 'pickle_path': 'qm9/CCOCCCCCO.pickle',\n",
       " 'poplowestpct': 10.611,\n",
       " 'temperature': 298.15,\n",
       " 'totalconfs': 1381,\n",
       " 'uniqueconfs': 1101}"
      ]
     },
     "execution_count": 18,
     "metadata": {},
     "output_type": "execute_result"
    }
   ],
   "source": [
    "summary[smiles]"
   ]
  },
  {
   "cell_type": "code",
   "execution_count": 7,
   "metadata": {},
   "outputs": [
    {
     "name": "stdout",
     "output_type": "stream",
     "text": [
      "torch.Size([1614, 18, 3]) tensor([[8, 6, 8, 6, 6, 6, 1, 1, 6, 1, 1, 6, 1, 1, 7, 1, 1, 1]],\n",
      "       device='cuda:0')\n"
     ]
    },
    {
     "name": "stderr",
     "output_type": "stream",
     "text": [
      "/tmp/ipykernel_972023/445202615.py:6: UserWarning: Creating a tensor from a list of numpy.ndarrays is extremely slow. Please consider converting the list to a single numpy.ndarray with numpy.array() before converting to a tensor. (Triggered internally at ../torch/csrc/utils/tensor_new.cpp:275.)\n",
      "  coords = torch.Tensor(coords).to(device).requires_grad_(requires_grad)\n"
     ]
    }
   ],
   "source": [
    "def get_coords(mol, device = device, requires_grad = True):\n",
    "    coords = []\n",
    "    for i in range(len(mol['conformers'])):\n",
    "        x = mol['conformers'][i]['rd_mol'].GetConformer().GetPositions()\n",
    "        coords.append(x)\n",
    "    coords = torch.Tensor(coords).to(device).requires_grad_(requires_grad)\n",
    "    return coords\n",
    "\n",
    "def get_atom_ids(mol, device = device):\n",
    "    atoms = np.array([atom.GetSymbol() for atom in mol['conformers'][0]['rd_mol'].GetAtoms()])\n",
    "    atom_ids = [getattr(periodictable, symbol).number for symbol in atoms]\n",
    "    atom_ids = torch.Tensor(atom_ids).to(device).long().unsqueeze(0)\n",
    "    return atom_ids\n",
    "\n",
    "\n",
    "def interatomic_dist(x):\n",
    "    # Compute the pairwise interatomic distances\n",
    "    # removes duplicates and diagonal\n",
    "    distances = x[:, None, :, :] - x[:, :, None, :]\n",
    "    distances = distances[\n",
    "        :,\n",
    "        torch.triu(torch.ones((x.shape[1], x.shape[1])), diagonal=1)\n",
    "        == 1,\n",
    "    ]\n",
    "    dist = torch.linalg.norm(distances, dim=-1)\n",
    "    return dist\n",
    "\n",
    "coords = get_coords(mol)\n",
    "atom_ids = get_atom_ids(mol)\n",
    "print(coords.shape, atom_ids)\n"
   ]
  },
  {
   "cell_type": "code",
   "execution_count": 12,
   "metadata": {},
   "outputs": [
    {
     "data": {
      "text/plain": [
       "(array([7.4016e+04, 6.8916e+04, 3.2730e+04, 4.9780e+03, 9.3300e+02,\n",
       "        1.7160e+03, 2.8830e+03, 3.8940e+03, 3.8640e+03, 3.5940e+03,\n",
       "        3.3750e+03, 2.7510e+03, 2.6130e+03, 2.4590e+03, 2.2800e+03,\n",
       "        2.2820e+03, 2.2170e+03, 2.0510e+03, 1.9980e+03, 1.6700e+03,\n",
       "        1.6740e+03, 1.5560e+03, 1.3890e+03, 1.1400e+03, 9.7300e+02,\n",
       "        8.4700e+02, 8.5000e+02, 7.8400e+02, 8.0200e+02, 8.3000e+02,\n",
       "        8.6300e+02, 7.8200e+02, 7.2100e+02, 7.5500e+02, 6.3200e+02,\n",
       "        5.6300e+02, 5.4100e+02, 4.4500e+02, 4.1800e+02, 4.0300e+02,\n",
       "        3.1800e+02, 2.9700e+02, 3.6600e+02, 1.0420e+03, 1.8730e+03,\n",
       "        2.2580e+03, 1.6420e+03, 7.5000e+02, 1.8800e+02, 2.0000e+01]),\n",
       " array([ 1.01320899,  2.54644251,  4.07967567,  5.61290932,  7.14614296,\n",
       "         8.6793766 , 10.21260929, 11.74584293, 13.27907658, 14.81231022,\n",
       "        16.34554291, 17.87877655, 19.41201019, 20.94524384, 22.47847748,\n",
       "        24.01171112, 25.54494476, 27.07817841, 28.61141014, 30.14464378,\n",
       "        31.67787743, 33.21111298, 34.7443428 , 36.27757645, 37.81081009,\n",
       "        39.34404373, 40.87727737, 42.41051102, 43.94374466, 45.4769783 ,\n",
       "        47.01021194, 48.54344559, 50.07667923, 51.60991287, 53.14314651,\n",
       "        54.67638016, 56.2096138 , 57.74284744, 59.27608109, 60.80931473,\n",
       "        62.34254837, 63.8757782 , 65.40901184, 66.94224548, 68.47547913,\n",
       "        70.00871277, 71.54194641, 73.07518005, 74.6084137 , 76.14164734,\n",
       "        77.67488098]),\n",
       " <BarContainer object of 50 artists>)"
      ]
     },
     "execution_count": 12,
     "metadata": {},
     "output_type": "execute_result"
    },
    {
     "data": {
      "image/png": "[encoded data removed]",
      "text/plain": [
       "<Figure size 640x480 with 1 Axes>"
      ]
     },
     "metadata": {},
     "output_type": "display_data"
    }
   ],
   "source": [
    "import matplotlib.pyplot as plt\n",
    "dists = interatomic_dist(coords).detach().cpu().numpy()\n",
    "plt.hist(dists.flatten(), bins=50)"
   ]
  },
  {
   "cell_type": "markdown",
   "metadata": {},
   "source": [
    "For torchANI, energies are in Hartree. but in the GEOM dataset, they are in  Kcal / mol, and 1Kcal / mol = 627.509 Hartree.\n"
   ]
  },
  {
   "cell_type": "code",
   "execution_count": 13,
   "metadata": {},
   "outputs": [
    {
     "data": {
      "text/plain": [
       "(array([5.900e+01, 1.780e+02, 4.730e+02, 7.270e+02, 1.122e+03, 1.484e+03,\n",
       "        2.079e+03, 2.551e+03, 2.972e+03, 3.512e+03, 4.042e+03, 4.364e+03,\n",
       "        4.946e+03, 5.580e+03, 5.846e+03, 6.095e+03, 6.441e+03, 6.713e+03,\n",
       "        6.811e+03, 7.020e+03, 6.993e+03, 6.947e+03, 6.932e+03, 6.725e+03,\n",
       "        6.620e+03, 6.295e+03, 5.976e+03, 5.595e+03, 5.075e+03, 4.515e+03,\n",
       "        3.992e+03, 3.191e+03, 2.668e+03, 2.159e+03, 1.637e+03, 1.337e+03,\n",
       "        1.002e+03, 7.390e+02, 5.510e+02, 3.990e+02, 2.380e+02, 1.770e+02,\n",
       "        8.300e+01, 6.400e+01, 3.900e+01, 2.000e+01, 8.000e+00, 5.000e+00,\n",
       "        2.000e+00, 1.000e+00]),\n",
       " array([0.01081583, 0.04250164, 0.07418744, 0.10587325, 0.13755906,\n",
       "        0.16924486, 0.20093067, 0.23261647, 0.26430228, 0.29598808,\n",
       "        0.32767388, 0.35935968, 0.39104551, 0.42273131, 0.45441711,\n",
       "        0.48610291, 0.51778871, 0.54947454, 0.58116037, 0.61284614,\n",
       "        0.64453197, 0.67621773, 0.70790356, 0.73958939, 0.77127516,\n",
       "        0.80296099, 0.83464676, 0.86633259, 0.89801842, 0.92970419,\n",
       "        0.96139002, 0.99307579, 1.02476168, 1.05644739, 1.08813322,\n",
       "        1.11981905, 1.15150487, 1.1831907 , 1.21487641, 1.24656224,\n",
       "        1.27824807, 1.3099339 , 1.34161973, 1.37330544, 1.40499127,\n",
       "        1.4366771 , 1.46836293, 1.50004876, 1.53173447, 1.5634203 ,\n",
       "        1.59510612]),\n",
       " <BarContainer object of 50 artists>)"
      ]
     },
     "execution_count": 13,
     "metadata": {},
     "output_type": "execute_result"
    },
    {
     "data": {
      "image/png": "[encoded data removed]",
      "text/plain": [
       "<Figure size 640x480 with 1 Axes>"
      ]
     },
     "metadata": {},
     "output_type": "display_data"
    }
   ],
   "source": [
    "n_rand = 1000\n",
    "rand_coords = 1*torch.rand(n_rand,coords.shape[1],coords.shape[2]).to(coords.device)\n",
    "rand_dists = interatomic_dist(rand_coords).detach().cpu().numpy()\n",
    "plt.hist(rand_dists.flatten(), bins=50)"
   ]
  },
  {
   "cell_type": "markdown",
   "metadata": {},
   "source": [
    "TODO : redraw these histograms but for distances instead of coords"
   ]
  },
  {
   "cell_type": "code",
   "execution_count": 24,
   "metadata": {},
   "outputs": [
    {
     "name": "stdout",
     "output_type": "stream",
     "text": [
      "/home/mila/l/lena-nehale.ezzine/Amgen/DEM_fork/y/envs/dem/lib/python3.10/site-packages/torchani/resources/\n"
     ]
    },
    {
     "name": "stderr",
     "output_type": "stream",
     "text": [
      "/tmp/ipykernel_972023/2349178838.py:8: UserWarning: set_ticklabels() should only be used with a fixed number of ticks, i.e. after set_ticks() or using a FixedLocator.\n",
      "  ax.set_xticklabels([x for x in dict_data.keys() ])\n"
     ]
    },
    {
     "data": {
      "image/png": "[encoded data removed]",
      "text/plain": [
       "<Figure size 700x500 with 1 Axes>"
      ]
     },
     "metadata": {},
     "output_type": "display_data"
    }
   ],
   "source": [
    "model = torchani.models.ANI2x(periodic_table_index=True).to(device)\n",
    "test_data_logrews = - model((atom_ids.repeat(len(coords),1), coords)).energies / 627.509 \n",
    "random_data_logrews = - model((atom_ids.repeat(n_rand,1), rand_coords )).energies / 627.509\n",
    "dict_data = {'test_data_logrews': test_data_logrews.detach().cpu() , 'random_data_logrews':  random_data_logrews.detach().cpu()}\n",
    "data = [x for x in dict_data.values()]\n",
    "fig = plt.figure(figsize =(7, 5)) \n",
    "ax = fig.add_axes([0, 0, 1, 1])\n",
    "ax.set_xticklabels([x for x in dict_data.keys() ])\n",
    "ax.set_title('log-reward distribution')\n",
    "# Creating plot\n",
    "bp = ax.boxplot(data)\n",
    "\n",
    "# show plot\n",
    "plt.show()\n"
   ]
  },
  {
   "cell_type": "markdown",
   "metadata": {},
   "source": []
  },
  {
   "cell_type": "markdown",
   "metadata": {},
   "source": []
  },
  {
   "cell_type": "markdown",
   "metadata": {},
   "source": []
  },
  {
   "cell_type": "markdown",
   "metadata": {},
   "source": []
  },
  {
   "cell_type": "markdown",
   "metadata": {},
   "source": []
  },
  {
   "cell_type": "markdown",
   "metadata": {},
   "source": []
  }
 ],
 "metadata": {
  "kernelspec": {
   "display_name": "base",
   "language": "python",
   "name": "python3"
  },
  "language_info": {
   "codemirror_mode": {
    "name": "ipython",
    "version": 3
   },
   "file_extension": ".py",
   "mimetype": "text/x-python",
   "name": "python",
   "nbconvert_exporter": "python",
   "pygments_lexer": "ipython3",
   "version": "3.10.14"
  }
 },
 "nbformat": 4,
 "nbformat_minor": 2
}
